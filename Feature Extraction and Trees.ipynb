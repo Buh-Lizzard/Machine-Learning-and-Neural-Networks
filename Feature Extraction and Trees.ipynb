{
 "cells": [
  {
   "cell_type": "markdown",
   "metadata": {},
   "source": [
    "# Assignment is below at the end"
   ]
  },
  {
   "cell_type": "markdown",
   "metadata": {},
   "source": [
    "- https://scikit-learn.org/stable/modules/tree.html\n",
    "- https://scikit-learn.org/stable/modules/generated/sklearn.tree.DecisionTreeClassifier.html\n",
    "- https://scikit-learn.org/stable/modules/generated/sklearn.tree.plot_tree.html"
   ]
  },
  {
   "cell_type": "code",
   "execution_count": 1,
   "metadata": {},
   "outputs": [],
   "source": [
    "import seaborn as sns\n",
    "import matplotlib.pyplot as plt\n",
    "%matplotlib inline\n",
    "plt.rcParams['figure.figsize'] = (20, 6)\n",
    "plt.rcParams['font.size'] = 14\n",
    "import pandas as pd"
   ]
  },
  {
   "cell_type": "code",
   "execution_count": 67,
   "metadata": {},
   "outputs": [],
   "source": [
    "df = pd.read_csv('adult.data.csv', index_col=False)"
   ]
  },
  {
   "cell_type": "code",
   "execution_count": 68,
   "metadata": {},
   "outputs": [],
   "source": [
    "golden = pd.read_csv('adult.test.csv', index_col=False)"
   ]
  },
  {
   "cell_type": "code",
   "execution_count": 71,
   "metadata": {},
   "outputs": [
    {
     "data": {
      "text/html": [
       "<div>\n",
       "<style scoped>\n",
       "    .dataframe tbody tr th:only-of-type {\n",
       "        vertical-align: middle;\n",
       "    }\n",
       "\n",
       "    .dataframe tbody tr th {\n",
       "        vertical-align: top;\n",
       "    }\n",
       "\n",
       "    .dataframe thead th {\n",
       "        text-align: right;\n",
       "    }\n",
       "</style>\n",
       "<table border=\"1\" class=\"dataframe\">\n",
       "  <thead>\n",
       "    <tr style=\"text-align: right;\">\n",
       "      <th></th>\n",
       "      <th>age</th>\n",
       "      <th>workclass</th>\n",
       "      <th>fnlwgt</th>\n",
       "      <th>education</th>\n",
       "      <th>education-num</th>\n",
       "      <th>marital-status</th>\n",
       "      <th>occupation</th>\n",
       "      <th>relationship</th>\n",
       "      <th>race</th>\n",
       "      <th>sex</th>\n",
       "      <th>capital-gain</th>\n",
       "      <th>capital-loss</th>\n",
       "      <th>hours-per-week</th>\n",
       "      <th>native-country</th>\n",
       "      <th>salary</th>\n",
       "    </tr>\n",
       "  </thead>\n",
       "  <tbody>\n",
       "    <tr>\n",
       "      <th>0</th>\n",
       "      <td>25</td>\n",
       "      <td>Private</td>\n",
       "      <td>226802</td>\n",
       "      <td>11th</td>\n",
       "      <td>7</td>\n",
       "      <td>Never-married</td>\n",
       "      <td>Machine-op-inspct</td>\n",
       "      <td>Own-child</td>\n",
       "      <td>Black</td>\n",
       "      <td>Male</td>\n",
       "      <td>0</td>\n",
       "      <td>0</td>\n",
       "      <td>40</td>\n",
       "      <td>United-States</td>\n",
       "      <td>&lt;=50K.</td>\n",
       "    </tr>\n",
       "    <tr>\n",
       "      <th>1</th>\n",
       "      <td>38</td>\n",
       "      <td>Private</td>\n",
       "      <td>89814</td>\n",
       "      <td>HS-grad</td>\n",
       "      <td>9</td>\n",
       "      <td>Married-civ-spouse</td>\n",
       "      <td>Farming-fishing</td>\n",
       "      <td>Husband</td>\n",
       "      <td>White</td>\n",
       "      <td>Male</td>\n",
       "      <td>0</td>\n",
       "      <td>0</td>\n",
       "      <td>50</td>\n",
       "      <td>United-States</td>\n",
       "      <td>&lt;=50K.</td>\n",
       "    </tr>\n",
       "    <tr>\n",
       "      <th>2</th>\n",
       "      <td>28</td>\n",
       "      <td>Local-gov</td>\n",
       "      <td>336951</td>\n",
       "      <td>Assoc-acdm</td>\n",
       "      <td>12</td>\n",
       "      <td>Married-civ-spouse</td>\n",
       "      <td>Protective-serv</td>\n",
       "      <td>Husband</td>\n",
       "      <td>White</td>\n",
       "      <td>Male</td>\n",
       "      <td>0</td>\n",
       "      <td>0</td>\n",
       "      <td>40</td>\n",
       "      <td>United-States</td>\n",
       "      <td>&gt;50K.</td>\n",
       "    </tr>\n",
       "    <tr>\n",
       "      <th>3</th>\n",
       "      <td>44</td>\n",
       "      <td>Private</td>\n",
       "      <td>160323</td>\n",
       "      <td>Some-college</td>\n",
       "      <td>10</td>\n",
       "      <td>Married-civ-spouse</td>\n",
       "      <td>Machine-op-inspct</td>\n",
       "      <td>Husband</td>\n",
       "      <td>Black</td>\n",
       "      <td>Male</td>\n",
       "      <td>7688</td>\n",
       "      <td>0</td>\n",
       "      <td>40</td>\n",
       "      <td>United-States</td>\n",
       "      <td>&gt;50K.</td>\n",
       "    </tr>\n",
       "    <tr>\n",
       "      <th>4</th>\n",
       "      <td>18</td>\n",
       "      <td>?</td>\n",
       "      <td>103497</td>\n",
       "      <td>Some-college</td>\n",
       "      <td>10</td>\n",
       "      <td>Never-married</td>\n",
       "      <td>?</td>\n",
       "      <td>Own-child</td>\n",
       "      <td>White</td>\n",
       "      <td>Female</td>\n",
       "      <td>0</td>\n",
       "      <td>0</td>\n",
       "      <td>30</td>\n",
       "      <td>United-States</td>\n",
       "      <td>&lt;=50K.</td>\n",
       "    </tr>\n",
       "  </tbody>\n",
       "</table>\n",
       "</div>"
      ],
      "text/plain": [
       "   age   workclass  fnlwgt      education  education-num       marital-status  \\\n",
       "0   25     Private  226802           11th              7        Never-married   \n",
       "1   38     Private   89814        HS-grad              9   Married-civ-spouse   \n",
       "2   28   Local-gov  336951     Assoc-acdm             12   Married-civ-spouse   \n",
       "3   44     Private  160323   Some-college             10   Married-civ-spouse   \n",
       "4   18           ?  103497   Some-college             10        Never-married   \n",
       "\n",
       "           occupation relationship    race      sex  capital-gain  \\\n",
       "0   Machine-op-inspct    Own-child   Black     Male             0   \n",
       "1     Farming-fishing      Husband   White     Male             0   \n",
       "2     Protective-serv      Husband   White     Male             0   \n",
       "3   Machine-op-inspct      Husband   Black     Male          7688   \n",
       "4                   ?    Own-child   White   Female             0   \n",
       "\n",
       "   capital-loss  hours-per-week  native-country   salary  \n",
       "0             0              40   United-States   <=50K.  \n",
       "1             0              50   United-States   <=50K.  \n",
       "2             0              40   United-States    >50K.  \n",
       "3             0              40   United-States    >50K.  \n",
       "4             0              30   United-States   <=50K.  "
      ]
     },
     "execution_count": 71,
     "metadata": {},
     "output_type": "execute_result"
    }
   ],
   "source": [
    "golden.head()"
   ]
  },
  {
   "cell_type": "code",
   "execution_count": 8,
   "metadata": {},
   "outputs": [
    {
     "data": {
      "text/html": [
       "<div>\n",
       "<style scoped>\n",
       "    .dataframe tbody tr th:only-of-type {\n",
       "        vertical-align: middle;\n",
       "    }\n",
       "\n",
       "    .dataframe tbody tr th {\n",
       "        vertical-align: top;\n",
       "    }\n",
       "\n",
       "    .dataframe thead th {\n",
       "        text-align: right;\n",
       "    }\n",
       "</style>\n",
       "<table border=\"1\" class=\"dataframe\">\n",
       "  <thead>\n",
       "    <tr style=\"text-align: right;\">\n",
       "      <th></th>\n",
       "      <th>age</th>\n",
       "      <th>workclass</th>\n",
       "      <th>fnlwgt</th>\n",
       "      <th>education</th>\n",
       "      <th>education-num</th>\n",
       "      <th>marital-status</th>\n",
       "      <th>occupation</th>\n",
       "      <th>relationship</th>\n",
       "      <th>race</th>\n",
       "      <th>sex</th>\n",
       "      <th>capital-gain</th>\n",
       "      <th>capital-loss</th>\n",
       "      <th>hours-per-week</th>\n",
       "      <th>native-country</th>\n",
       "      <th>salary</th>\n",
       "    </tr>\n",
       "  </thead>\n",
       "  <tbody>\n",
       "    <tr>\n",
       "      <th>0</th>\n",
       "      <td>39</td>\n",
       "      <td>State-gov</td>\n",
       "      <td>77516</td>\n",
       "      <td>Bachelors</td>\n",
       "      <td>13</td>\n",
       "      <td>Never-married</td>\n",
       "      <td>Adm-clerical</td>\n",
       "      <td>Not-in-family</td>\n",
       "      <td>White</td>\n",
       "      <td>Male</td>\n",
       "      <td>2174</td>\n",
       "      <td>0</td>\n",
       "      <td>40</td>\n",
       "      <td>United-States</td>\n",
       "      <td>&lt;=50K</td>\n",
       "    </tr>\n",
       "    <tr>\n",
       "      <th>1</th>\n",
       "      <td>50</td>\n",
       "      <td>Self-emp-not-inc</td>\n",
       "      <td>83311</td>\n",
       "      <td>Bachelors</td>\n",
       "      <td>13</td>\n",
       "      <td>Married-civ-spouse</td>\n",
       "      <td>Exec-managerial</td>\n",
       "      <td>Husband</td>\n",
       "      <td>White</td>\n",
       "      <td>Male</td>\n",
       "      <td>0</td>\n",
       "      <td>0</td>\n",
       "      <td>13</td>\n",
       "      <td>United-States</td>\n",
       "      <td>&lt;=50K</td>\n",
       "    </tr>\n",
       "    <tr>\n",
       "      <th>2</th>\n",
       "      <td>38</td>\n",
       "      <td>Private</td>\n",
       "      <td>215646</td>\n",
       "      <td>HS-grad</td>\n",
       "      <td>9</td>\n",
       "      <td>Divorced</td>\n",
       "      <td>Handlers-cleaners</td>\n",
       "      <td>Not-in-family</td>\n",
       "      <td>White</td>\n",
       "      <td>Male</td>\n",
       "      <td>0</td>\n",
       "      <td>0</td>\n",
       "      <td>40</td>\n",
       "      <td>United-States</td>\n",
       "      <td>&lt;=50K</td>\n",
       "    </tr>\n",
       "    <tr>\n",
       "      <th>3</th>\n",
       "      <td>53</td>\n",
       "      <td>Private</td>\n",
       "      <td>234721</td>\n",
       "      <td>11th</td>\n",
       "      <td>7</td>\n",
       "      <td>Married-civ-spouse</td>\n",
       "      <td>Handlers-cleaners</td>\n",
       "      <td>Husband</td>\n",
       "      <td>Black</td>\n",
       "      <td>Male</td>\n",
       "      <td>0</td>\n",
       "      <td>0</td>\n",
       "      <td>40</td>\n",
       "      <td>United-States</td>\n",
       "      <td>&lt;=50K</td>\n",
       "    </tr>\n",
       "    <tr>\n",
       "      <th>4</th>\n",
       "      <td>28</td>\n",
       "      <td>Private</td>\n",
       "      <td>338409</td>\n",
       "      <td>Bachelors</td>\n",
       "      <td>13</td>\n",
       "      <td>Married-civ-spouse</td>\n",
       "      <td>Prof-specialty</td>\n",
       "      <td>Wife</td>\n",
       "      <td>Black</td>\n",
       "      <td>Female</td>\n",
       "      <td>0</td>\n",
       "      <td>0</td>\n",
       "      <td>40</td>\n",
       "      <td>Cuba</td>\n",
       "      <td>&lt;=50K</td>\n",
       "    </tr>\n",
       "  </tbody>\n",
       "</table>\n",
       "</div>"
      ],
      "text/plain": [
       "   age          workclass  fnlwgt   education  education-num  \\\n",
       "0   39          State-gov   77516   Bachelors             13   \n",
       "1   50   Self-emp-not-inc   83311   Bachelors             13   \n",
       "2   38            Private  215646     HS-grad              9   \n",
       "3   53            Private  234721        11th              7   \n",
       "4   28            Private  338409   Bachelors             13   \n",
       "\n",
       "        marital-status          occupation    relationship    race      sex  \\\n",
       "0        Never-married        Adm-clerical   Not-in-family   White     Male   \n",
       "1   Married-civ-spouse     Exec-managerial         Husband   White     Male   \n",
       "2             Divorced   Handlers-cleaners   Not-in-family   White     Male   \n",
       "3   Married-civ-spouse   Handlers-cleaners         Husband   Black     Male   \n",
       "4   Married-civ-spouse      Prof-specialty            Wife   Black   Female   \n",
       "\n",
       "   capital-gain  capital-loss  hours-per-week  native-country  salary  \n",
       "0          2174             0              40   United-States   <=50K  \n",
       "1             0             0              13   United-States   <=50K  \n",
       "2             0             0              40   United-States   <=50K  \n",
       "3             0             0              40   United-States   <=50K  \n",
       "4             0             0              40            Cuba   <=50K  "
      ]
     },
     "execution_count": 8,
     "metadata": {},
     "output_type": "execute_result"
    }
   ],
   "source": [
    "df.head()"
   ]
  },
  {
   "cell_type": "code",
   "execution_count": 9,
   "metadata": {},
   "outputs": [
    {
     "data": {
      "text/plain": [
       "Index(['age', 'workclass', 'fnlwgt', 'education', 'education-num',\n",
       "       'marital-status', 'occupation', 'relationship', 'race', 'sex',\n",
       "       'capital-gain', 'capital-loss', 'hours-per-week', 'native-country',\n",
       "       'salary'],\n",
       "      dtype='object')"
      ]
     },
     "execution_count": 9,
     "metadata": {},
     "output_type": "execute_result"
    }
   ],
   "source": [
    "df.columns"
   ]
  },
  {
   "cell_type": "code",
   "execution_count": 10,
   "metadata": {},
   "outputs": [],
   "source": [
    "from sklearn import preprocessing"
   ]
  },
  {
   "cell_type": "code",
   "execution_count": 11,
   "metadata": {},
   "outputs": [],
   "source": [
    "enc = preprocessing.OrdinalEncoder()"
   ]
  },
  {
   "cell_type": "code",
   "execution_count": 10,
   "metadata": {},
   "outputs": [],
   "source": [
    "transform_columns = ['sex']\n",
    "non_num_columns = ['workclass', 'education', 'marital-status', \n",
    "                     'occupation', 'relationship', 'race', 'sex', \n",
    "                     'native-country']"
   ]
  },
  {
   "cell_type": "code",
   "execution_count": 11,
   "metadata": {},
   "outputs": [
    {
     "data": {
      "text/html": [
       "<div>\n",
       "<style scoped>\n",
       "    .dataframe tbody tr th:only-of-type {\n",
       "        vertical-align: middle;\n",
       "    }\n",
       "\n",
       "    .dataframe tbody tr th {\n",
       "        vertical-align: top;\n",
       "    }\n",
       "\n",
       "    .dataframe thead th {\n",
       "        text-align: right;\n",
       "    }\n",
       "</style>\n",
       "<table border=\"1\" class=\"dataframe\">\n",
       "  <thead>\n",
       "    <tr style=\"text-align: right;\">\n",
       "      <th></th>\n",
       "      <th>sex_ Female</th>\n",
       "      <th>sex_ Male</th>\n",
       "    </tr>\n",
       "  </thead>\n",
       "  <tbody>\n",
       "    <tr>\n",
       "      <th>0</th>\n",
       "      <td>0</td>\n",
       "      <td>1</td>\n",
       "    </tr>\n",
       "    <tr>\n",
       "      <th>1</th>\n",
       "      <td>0</td>\n",
       "      <td>1</td>\n",
       "    </tr>\n",
       "    <tr>\n",
       "      <th>2</th>\n",
       "      <td>0</td>\n",
       "      <td>1</td>\n",
       "    </tr>\n",
       "    <tr>\n",
       "      <th>3</th>\n",
       "      <td>0</td>\n",
       "      <td>1</td>\n",
       "    </tr>\n",
       "    <tr>\n",
       "      <th>4</th>\n",
       "      <td>1</td>\n",
       "      <td>0</td>\n",
       "    </tr>\n",
       "  </tbody>\n",
       "</table>\n",
       "</div>"
      ],
      "text/plain": [
       "   sex_ Female  sex_ Male\n",
       "0            0          1\n",
       "1            0          1\n",
       "2            0          1\n",
       "3            0          1\n",
       "4            1          0"
      ]
     },
     "execution_count": 11,
     "metadata": {},
     "output_type": "execute_result"
    }
   ],
   "source": [
    "pd.get_dummies(df[transform_columns]).head()"
   ]
  },
  {
   "cell_type": "code",
   "execution_count": 12,
   "metadata": {},
   "outputs": [],
   "source": [
    "x = df.copy()\n",
    "\n",
    "x = pd.concat([x.drop(non_num_columns, axis=1), \n",
    "               pd.get_dummies(df[transform_columns])], axis=1,)\n",
    "\n",
    "x[\"salary\"] = enc.fit_transform(df[[\"salary\"]])"
   ]
  },
  {
   "cell_type": "code",
   "execution_count": 13,
   "metadata": {},
   "outputs": [
    {
     "data": {
      "text/html": [
       "<div>\n",
       "<style scoped>\n",
       "    .dataframe tbody tr th:only-of-type {\n",
       "        vertical-align: middle;\n",
       "    }\n",
       "\n",
       "    .dataframe tbody tr th {\n",
       "        vertical-align: top;\n",
       "    }\n",
       "\n",
       "    .dataframe thead th {\n",
       "        text-align: right;\n",
       "    }\n",
       "</style>\n",
       "<table border=\"1\" class=\"dataframe\">\n",
       "  <thead>\n",
       "    <tr style=\"text-align: right;\">\n",
       "      <th></th>\n",
       "      <th>age</th>\n",
       "      <th>fnlwgt</th>\n",
       "      <th>education-num</th>\n",
       "      <th>capital-gain</th>\n",
       "      <th>capital-loss</th>\n",
       "      <th>hours-per-week</th>\n",
       "      <th>salary</th>\n",
       "      <th>sex_ Female</th>\n",
       "      <th>sex_ Male</th>\n",
       "    </tr>\n",
       "  </thead>\n",
       "  <tbody>\n",
       "    <tr>\n",
       "      <th>0</th>\n",
       "      <td>39</td>\n",
       "      <td>77516</td>\n",
       "      <td>13</td>\n",
       "      <td>2174</td>\n",
       "      <td>0</td>\n",
       "      <td>40</td>\n",
       "      <td>0.0</td>\n",
       "      <td>0</td>\n",
       "      <td>1</td>\n",
       "    </tr>\n",
       "    <tr>\n",
       "      <th>1</th>\n",
       "      <td>50</td>\n",
       "      <td>83311</td>\n",
       "      <td>13</td>\n",
       "      <td>0</td>\n",
       "      <td>0</td>\n",
       "      <td>13</td>\n",
       "      <td>0.0</td>\n",
       "      <td>0</td>\n",
       "      <td>1</td>\n",
       "    </tr>\n",
       "    <tr>\n",
       "      <th>2</th>\n",
       "      <td>38</td>\n",
       "      <td>215646</td>\n",
       "      <td>9</td>\n",
       "      <td>0</td>\n",
       "      <td>0</td>\n",
       "      <td>40</td>\n",
       "      <td>0.0</td>\n",
       "      <td>0</td>\n",
       "      <td>1</td>\n",
       "    </tr>\n",
       "    <tr>\n",
       "      <th>3</th>\n",
       "      <td>53</td>\n",
       "      <td>234721</td>\n",
       "      <td>7</td>\n",
       "      <td>0</td>\n",
       "      <td>0</td>\n",
       "      <td>40</td>\n",
       "      <td>0.0</td>\n",
       "      <td>0</td>\n",
       "      <td>1</td>\n",
       "    </tr>\n",
       "    <tr>\n",
       "      <th>4</th>\n",
       "      <td>28</td>\n",
       "      <td>338409</td>\n",
       "      <td>13</td>\n",
       "      <td>0</td>\n",
       "      <td>0</td>\n",
       "      <td>40</td>\n",
       "      <td>0.0</td>\n",
       "      <td>1</td>\n",
       "      <td>0</td>\n",
       "    </tr>\n",
       "  </tbody>\n",
       "</table>\n",
       "</div>"
      ],
      "text/plain": [
       "   age  fnlwgt  education-num  capital-gain  capital-loss  hours-per-week  \\\n",
       "0   39   77516             13          2174             0              40   \n",
       "1   50   83311             13             0             0              13   \n",
       "2   38  215646              9             0             0              40   \n",
       "3   53  234721              7             0             0              40   \n",
       "4   28  338409             13             0             0              40   \n",
       "\n",
       "   salary  sex_ Female  sex_ Male  \n",
       "0     0.0            0          1  \n",
       "1     0.0            0          1  \n",
       "2     0.0            0          1  \n",
       "3     0.0            0          1  \n",
       "4     0.0            1          0  "
      ]
     },
     "execution_count": 13,
     "metadata": {},
     "output_type": "execute_result"
    }
   ],
   "source": [
    "x.head()"
   ]
  },
  {
   "cell_type": "code",
   "execution_count": 14,
   "metadata": {},
   "outputs": [],
   "source": [
    "xt = golden.copy()\n",
    "\n",
    "xt = pd.concat([xt.drop(non_num_columns, axis=1), \n",
    "               pd.get_dummies(golden[transform_columns])], axis=1,)\n",
    "\n",
    "xt[\"salary\"] = enc.fit_transform(golden[[\"salary\"]])"
   ]
  },
  {
   "cell_type": "code",
   "execution_count": 15,
   "metadata": {},
   "outputs": [
    {
     "data": {
      "text/plain": [
       "0.0    12435\n",
       "1.0     3846\n",
       "Name: salary, dtype: int64"
      ]
     },
     "execution_count": 15,
     "metadata": {},
     "output_type": "execute_result"
    }
   ],
   "source": [
    "xt.salary.value_counts()"
   ]
  },
  {
   "cell_type": "code",
   "execution_count": 16,
   "metadata": {},
   "outputs": [
    {
     "data": {
      "text/plain": [
       "[array([' <=50K.', ' >50K.'], dtype=object)]"
      ]
     },
     "execution_count": 16,
     "metadata": {},
     "output_type": "execute_result"
    }
   ],
   "source": [
    "enc.categories_"
   ]
  },
  {
   "cell_type": "code",
   "execution_count": 17,
   "metadata": {},
   "outputs": [],
   "source": [
    "from sklearn.tree import DecisionTreeClassifier\n",
    "from sklearn.ensemble import RandomForestClassifier\n",
    "from sklearn.ensemble import GradientBoostingClassifier"
   ]
  },
  {
   "cell_type": "markdown",
   "metadata": {},
   "source": [
    "#### Choose the model of your preference: DecisionTree or RandomForest"
   ]
  },
  {
   "cell_type": "code",
   "execution_count": 51,
   "metadata": {},
   "outputs": [],
   "source": [
    "model = RandomForestClassifier(criterion='entropy')"
   ]
  },
  {
   "cell_type": "code",
   "execution_count": 18,
   "metadata": {},
   "outputs": [],
   "source": [
    "model = DecisionTreeClassifier(criterion='entropy', max_depth=None)"
   ]
  },
  {
   "cell_type": "code",
   "execution_count": 19,
   "metadata": {},
   "outputs": [
    {
     "data": {
      "text/plain": [
       "DecisionTreeClassifier(criterion='entropy')"
      ]
     },
     "execution_count": 19,
     "metadata": {},
     "output_type": "execute_result"
    }
   ],
   "source": [
    "model.fit(x.drop(['fnlwgt','salary'], axis = 1), x.salary)"
   ]
  },
  {
   "cell_type": "code",
   "execution_count": 21,
   "metadata": {},
   "outputs": [
    {
     "data": {
      "text/plain": [
       "8343"
      ]
     },
     "execution_count": 21,
     "metadata": {},
     "output_type": "execute_result"
    }
   ],
   "source": [
    "model.tree_.node_count"
   ]
  },
  {
   "cell_type": "code",
   "execution_count": 22,
   "metadata": {},
   "outputs": [
    {
     "data": {
      "text/plain": [
       "[('age', 0.3231195799515179),\n",
       " ('education-num', 0.16025858181602443),\n",
       " ('capital-gain', 0.2273734101984664),\n",
       " ('capital-loss', 0.0781763982245288),\n",
       " ('hours-per-week', 0.15546086459479727),\n",
       " ('sex_ Female', 0.054681070063918334),\n",
       " ('sex_ Male', 0.0009300951507470084)]"
      ]
     },
     "execution_count": 22,
     "metadata": {},
     "output_type": "execute_result"
    }
   ],
   "source": [
    "list(zip(x.drop(['fnlwgt','salary'], axis=1).columns, model.feature_importances_))"
   ]
  },
  {
   "cell_type": "code",
   "execution_count": 23,
   "metadata": {},
   "outputs": [
    {
     "data": {
      "text/plain": [
       "[('age', 0.3231195799515179),\n",
       " ('education-num', 0.16025858181602443),\n",
       " ('capital-gain', 0.2273734101984664),\n",
       " ('capital-loss', 0.0781763982245288),\n",
       " ('hours-per-week', 0.15546086459479727),\n",
       " ('sex_ Female', 0.054681070063918334),\n",
       " ('sex_ Male', 0.0009300951507470084)]"
      ]
     },
     "execution_count": 23,
     "metadata": {},
     "output_type": "execute_result"
    }
   ],
   "source": [
    "list(zip(x.drop(['fnlwgt','salary'], axis=1).columns, model.feature_importances_))"
   ]
  },
  {
   "cell_type": "code",
   "execution_count": 24,
   "metadata": {},
   "outputs": [
    {
     "data": {
      "text/html": [
       "<div>\n",
       "<style scoped>\n",
       "    .dataframe tbody tr th:only-of-type {\n",
       "        vertical-align: middle;\n",
       "    }\n",
       "\n",
       "    .dataframe tbody tr th {\n",
       "        vertical-align: top;\n",
       "    }\n",
       "\n",
       "    .dataframe thead th {\n",
       "        text-align: right;\n",
       "    }\n",
       "</style>\n",
       "<table border=\"1\" class=\"dataframe\">\n",
       "  <thead>\n",
       "    <tr style=\"text-align: right;\">\n",
       "      <th></th>\n",
       "      <th>age</th>\n",
       "      <th>education-num</th>\n",
       "      <th>capital-gain</th>\n",
       "      <th>capital-loss</th>\n",
       "      <th>hours-per-week</th>\n",
       "      <th>sex_ Female</th>\n",
       "      <th>sex_ Male</th>\n",
       "    </tr>\n",
       "  </thead>\n",
       "  <tbody>\n",
       "    <tr>\n",
       "      <th>0</th>\n",
       "      <td>39</td>\n",
       "      <td>13</td>\n",
       "      <td>2174</td>\n",
       "      <td>0</td>\n",
       "      <td>40</td>\n",
       "      <td>0</td>\n",
       "      <td>1</td>\n",
       "    </tr>\n",
       "    <tr>\n",
       "      <th>1</th>\n",
       "      <td>50</td>\n",
       "      <td>13</td>\n",
       "      <td>0</td>\n",
       "      <td>0</td>\n",
       "      <td>13</td>\n",
       "      <td>0</td>\n",
       "      <td>1</td>\n",
       "    </tr>\n",
       "    <tr>\n",
       "      <th>2</th>\n",
       "      <td>38</td>\n",
       "      <td>9</td>\n",
       "      <td>0</td>\n",
       "      <td>0</td>\n",
       "      <td>40</td>\n",
       "      <td>0</td>\n",
       "      <td>1</td>\n",
       "    </tr>\n",
       "    <tr>\n",
       "      <th>3</th>\n",
       "      <td>53</td>\n",
       "      <td>7</td>\n",
       "      <td>0</td>\n",
       "      <td>0</td>\n",
       "      <td>40</td>\n",
       "      <td>0</td>\n",
       "      <td>1</td>\n",
       "    </tr>\n",
       "    <tr>\n",
       "      <th>4</th>\n",
       "      <td>28</td>\n",
       "      <td>13</td>\n",
       "      <td>0</td>\n",
       "      <td>0</td>\n",
       "      <td>40</td>\n",
       "      <td>1</td>\n",
       "      <td>0</td>\n",
       "    </tr>\n",
       "  </tbody>\n",
       "</table>\n",
       "</div>"
      ],
      "text/plain": [
       "   age  education-num  capital-gain  capital-loss  hours-per-week  \\\n",
       "0   39             13          2174             0              40   \n",
       "1   50             13             0             0              13   \n",
       "2   38              9             0             0              40   \n",
       "3   53              7             0             0              40   \n",
       "4   28             13             0             0              40   \n",
       "\n",
       "   sex_ Female  sex_ Male  \n",
       "0            0          1  \n",
       "1            0          1  \n",
       "2            0          1  \n",
       "3            0          1  \n",
       "4            1          0  "
      ]
     },
     "execution_count": 24,
     "metadata": {},
     "output_type": "execute_result"
    }
   ],
   "source": [
    "x.drop(['fnlwgt','salary'], axis=1).head()"
   ]
  },
  {
   "cell_type": "code",
   "execution_count": 25,
   "metadata": {},
   "outputs": [
    {
     "data": {
      "text/plain": [
       "set()"
      ]
     },
     "execution_count": 25,
     "metadata": {},
     "output_type": "execute_result"
    }
   ],
   "source": [
    "set(x.columns) - set(xt.columns)"
   ]
  },
  {
   "cell_type": "code",
   "execution_count": 26,
   "metadata": {},
   "outputs": [
    {
     "data": {
      "text/plain": [
       "['age',\n",
       " 'fnlwgt',\n",
       " 'education-num',\n",
       " 'capital-gain',\n",
       " 'capital-loss',\n",
       " 'hours-per-week',\n",
       " 'sex_ Female',\n",
       " 'sex_ Male']"
      ]
     },
     "execution_count": 26,
     "metadata": {},
     "output_type": "execute_result"
    }
   ],
   "source": [
    "list(x.drop('salary', axis=1).columns)"
   ]
  },
  {
   "cell_type": "code",
   "execution_count": 27,
   "metadata": {},
   "outputs": [],
   "source": [
    "predictions = model.predict(xt.drop(['fnlwgt','salary'], axis=1))\n",
    "predictionsx = model.predict(x.drop(['fnlwgt','salary'], axis=1))"
   ]
  },
  {
   "cell_type": "code",
   "execution_count": 28,
   "metadata": {},
   "outputs": [],
   "source": [
    "from sklearn.metrics import (\n",
    "    accuracy_score, \n",
    "    classification_report, \n",
    "    confusion_matrix, auc, roc_curve\n",
    ")"
   ]
  },
  {
   "cell_type": "code",
   "execution_count": 29,
   "metadata": {},
   "outputs": [
    {
     "data": {
      "text/plain": [
       "0.8209569436766784"
      ]
     },
     "execution_count": 29,
     "metadata": {},
     "output_type": "execute_result"
    }
   ],
   "source": [
    "accuracy_score(xt.salary, predictions)"
   ]
  },
  {
   "cell_type": "code",
   "execution_count": 30,
   "metadata": {},
   "outputs": [
    {
     "data": {
      "text/plain": [
       "0.8209569436766784"
      ]
     },
     "execution_count": 30,
     "metadata": {},
     "output_type": "execute_result"
    }
   ],
   "source": [
    "accuracy_score(xt.salary, predictions)"
   ]
  },
  {
   "cell_type": "code",
   "execution_count": 31,
   "metadata": {},
   "outputs": [
    {
     "data": {
      "text/plain": [
       "array([[11469,   966],\n",
       "       [ 1949,  1897]], dtype=int64)"
      ]
     },
     "execution_count": 31,
     "metadata": {},
     "output_type": "execute_result"
    }
   ],
   "source": [
    "confusion_matrix(xt.salary, predictions)"
   ]
  },
  {
   "cell_type": "code",
   "execution_count": 32,
   "metadata": {},
   "outputs": [
    {
     "name": "stdout",
     "output_type": "stream",
     "text": [
      "              precision    recall  f1-score   support\n",
      "\n",
      "         0.0       0.85      0.92      0.89     12435\n",
      "         1.0       0.66      0.49      0.57      3846\n",
      "\n",
      "    accuracy                           0.82     16281\n",
      "   macro avg       0.76      0.71      0.73     16281\n",
      "weighted avg       0.81      0.82      0.81     16281\n",
      "\n"
     ]
    }
   ],
   "source": [
    "print(classification_report(xt.salary, predictions))"
   ]
  },
  {
   "cell_type": "code",
   "execution_count": 33,
   "metadata": {},
   "outputs": [
    {
     "name": "stdout",
     "output_type": "stream",
     "text": [
      "              precision    recall  f1-score   support\n",
      "\n",
      "         0.0       0.85      0.92      0.89     12435\n",
      "         1.0       0.66      0.49      0.57      3846\n",
      "\n",
      "    accuracy                           0.82     16281\n",
      "   macro avg       0.76      0.71      0.73     16281\n",
      "weighted avg       0.81      0.82      0.81     16281\n",
      "\n"
     ]
    }
   ],
   "source": [
    "print(classification_report(xt.salary, predictions))"
   ]
  },
  {
   "cell_type": "code",
   "execution_count": 34,
   "metadata": {},
   "outputs": [
    {
     "data": {
      "text/plain": [
       "0.8955806025613464"
      ]
     },
     "execution_count": 34,
     "metadata": {},
     "output_type": "execute_result"
    }
   ],
   "source": [
    "accuracy_score(x.salary, predictionsx)"
   ]
  },
  {
   "cell_type": "code",
   "execution_count": 35,
   "metadata": {},
   "outputs": [
    {
     "data": {
      "text/plain": [
       "array([[24097,   623],\n",
       "       [ 2777,  5064]], dtype=int64)"
      ]
     },
     "execution_count": 35,
     "metadata": {},
     "output_type": "execute_result"
    }
   ],
   "source": [
    "confusion_matrix(x.salary, predictionsx)"
   ]
  },
  {
   "cell_type": "code",
   "execution_count": 37,
   "metadata": {},
   "outputs": [
    {
     "name": "stdout",
     "output_type": "stream",
     "text": [
      "              precision    recall  f1-score   support\n",
      "\n",
      "         0.0       0.90      0.97      0.93     24720\n",
      "         1.0       0.89      0.65      0.75      7841\n",
      "\n",
      "    accuracy                           0.90     32561\n",
      "   macro avg       0.89      0.81      0.84     32561\n",
      "weighted avg       0.90      0.90      0.89     32561\n",
      "\n"
     ]
    }
   ],
   "source": [
    "print(classification_report(x.salary, predictionsx))"
   ]
  },
  {
   "cell_type": "code",
   "execution_count": 36,
   "metadata": {},
   "outputs": [
    {
     "name": "stdout",
     "output_type": "stream",
     "text": [
      "              precision    recall  f1-score   support\n",
      "\n",
      "         0.0       0.90      0.97      0.93     24720\n",
      "         1.0       0.89      0.65      0.75      7841\n",
      "\n",
      "    accuracy                           0.90     32561\n",
      "   macro avg       0.89      0.81      0.84     32561\n",
      "weighted avg       0.90      0.90      0.89     32561\n",
      "\n"
     ]
    }
   ],
   "source": [
    "print(classification_report(x.salary, predictionsx))"
   ]
  },
  {
   "cell_type": "markdown",
   "metadata": {},
   "source": [
    "# For the following use the above `adult` dataset. Start with only numerical features/columns.  "
   ]
  },
  {
   "cell_type": "code",
   "execution_count": 12,
   "metadata": {},
   "outputs": [],
   "source": [
    "from sklearn.tree import DecisionTreeClassifier\n",
    "from sklearn.ensemble import RandomForestClassifier\n",
    "from sklearn.ensemble import GradientBoostingClassifier"
   ]
  },
  {
   "cell_type": "code",
   "execution_count": 72,
   "metadata": {},
   "outputs": [],
   "source": [
    "df = pd.read_csv('adult.data.csv', index_col = False)"
   ]
  },
  {
   "cell_type": "code",
   "execution_count": 73,
   "metadata": {},
   "outputs": [],
   "source": [
    "golden = pd.read_csv('adult.data.csv', index_col = False)"
   ]
  },
  {
   "cell_type": "code",
   "execution_count": 74,
   "metadata": {},
   "outputs": [],
   "source": [
    "df['salary'] = df.salary.str.contains('>').astype(int)"
   ]
  },
  {
   "cell_type": "code",
   "execution_count": 75,
   "metadata": {},
   "outputs": [],
   "source": [
    "golden['salary'] = golden.salary.str.contains('>').astype(int)"
   ]
  },
  {
   "cell_type": "code",
   "execution_count": 76,
   "metadata": {},
   "outputs": [
    {
     "data": {
      "text/plain": [
       "(array([0, 1]), array([0, 1]))"
      ]
     },
     "execution_count": 76,
     "metadata": {},
     "output_type": "execute_result"
    }
   ],
   "source": [
    "df.salary.unique(), golden.salary.unique()"
   ]
  },
  {
   "cell_type": "code",
   "execution_count": 77,
   "metadata": {},
   "outputs": [
    {
     "data": {
      "text/html": [
       "<div>\n",
       "<style scoped>\n",
       "    .dataframe tbody tr th:only-of-type {\n",
       "        vertical-align: middle;\n",
       "    }\n",
       "\n",
       "    .dataframe tbody tr th {\n",
       "        vertical-align: top;\n",
       "    }\n",
       "\n",
       "    .dataframe thead th {\n",
       "        text-align: right;\n",
       "    }\n",
       "</style>\n",
       "<table border=\"1\" class=\"dataframe\">\n",
       "  <thead>\n",
       "    <tr style=\"text-align: right;\">\n",
       "      <th></th>\n",
       "      <th>age</th>\n",
       "      <th>workclass</th>\n",
       "      <th>fnlwgt</th>\n",
       "      <th>education</th>\n",
       "      <th>education-num</th>\n",
       "      <th>marital-status</th>\n",
       "      <th>occupation</th>\n",
       "      <th>relationship</th>\n",
       "      <th>race</th>\n",
       "      <th>sex</th>\n",
       "      <th>capital-gain</th>\n",
       "      <th>capital-loss</th>\n",
       "      <th>hours-per-week</th>\n",
       "      <th>native-country</th>\n",
       "      <th>salary</th>\n",
       "    </tr>\n",
       "  </thead>\n",
       "  <tbody>\n",
       "    <tr>\n",
       "      <th>0</th>\n",
       "      <td>39</td>\n",
       "      <td>State-gov</td>\n",
       "      <td>77516</td>\n",
       "      <td>Bachelors</td>\n",
       "      <td>13</td>\n",
       "      <td>Never-married</td>\n",
       "      <td>Adm-clerical</td>\n",
       "      <td>Not-in-family</td>\n",
       "      <td>White</td>\n",
       "      <td>Male</td>\n",
       "      <td>2174</td>\n",
       "      <td>0</td>\n",
       "      <td>40</td>\n",
       "      <td>United-States</td>\n",
       "      <td>0</td>\n",
       "    </tr>\n",
       "    <tr>\n",
       "      <th>1</th>\n",
       "      <td>50</td>\n",
       "      <td>Self-emp-not-inc</td>\n",
       "      <td>83311</td>\n",
       "      <td>Bachelors</td>\n",
       "      <td>13</td>\n",
       "      <td>Married-civ-spouse</td>\n",
       "      <td>Exec-managerial</td>\n",
       "      <td>Husband</td>\n",
       "      <td>White</td>\n",
       "      <td>Male</td>\n",
       "      <td>0</td>\n",
       "      <td>0</td>\n",
       "      <td>13</td>\n",
       "      <td>United-States</td>\n",
       "      <td>0</td>\n",
       "    </tr>\n",
       "    <tr>\n",
       "      <th>2</th>\n",
       "      <td>38</td>\n",
       "      <td>Private</td>\n",
       "      <td>215646</td>\n",
       "      <td>HS-grad</td>\n",
       "      <td>9</td>\n",
       "      <td>Divorced</td>\n",
       "      <td>Handlers-cleaners</td>\n",
       "      <td>Not-in-family</td>\n",
       "      <td>White</td>\n",
       "      <td>Male</td>\n",
       "      <td>0</td>\n",
       "      <td>0</td>\n",
       "      <td>40</td>\n",
       "      <td>United-States</td>\n",
       "      <td>0</td>\n",
       "    </tr>\n",
       "    <tr>\n",
       "      <th>3</th>\n",
       "      <td>53</td>\n",
       "      <td>Private</td>\n",
       "      <td>234721</td>\n",
       "      <td>11th</td>\n",
       "      <td>7</td>\n",
       "      <td>Married-civ-spouse</td>\n",
       "      <td>Handlers-cleaners</td>\n",
       "      <td>Husband</td>\n",
       "      <td>Black</td>\n",
       "      <td>Male</td>\n",
       "      <td>0</td>\n",
       "      <td>0</td>\n",
       "      <td>40</td>\n",
       "      <td>United-States</td>\n",
       "      <td>0</td>\n",
       "    </tr>\n",
       "    <tr>\n",
       "      <th>4</th>\n",
       "      <td>28</td>\n",
       "      <td>Private</td>\n",
       "      <td>338409</td>\n",
       "      <td>Bachelors</td>\n",
       "      <td>13</td>\n",
       "      <td>Married-civ-spouse</td>\n",
       "      <td>Prof-specialty</td>\n",
       "      <td>Wife</td>\n",
       "      <td>Black</td>\n",
       "      <td>Female</td>\n",
       "      <td>0</td>\n",
       "      <td>0</td>\n",
       "      <td>40</td>\n",
       "      <td>Cuba</td>\n",
       "      <td>0</td>\n",
       "    </tr>\n",
       "  </tbody>\n",
       "</table>\n",
       "</div>"
      ],
      "text/plain": [
       "   age          workclass  fnlwgt   education  education-num  \\\n",
       "0   39          State-gov   77516   Bachelors             13   \n",
       "1   50   Self-emp-not-inc   83311   Bachelors             13   \n",
       "2   38            Private  215646     HS-grad              9   \n",
       "3   53            Private  234721        11th              7   \n",
       "4   28            Private  338409   Bachelors             13   \n",
       "\n",
       "        marital-status          occupation    relationship    race      sex  \\\n",
       "0        Never-married        Adm-clerical   Not-in-family   White     Male   \n",
       "1   Married-civ-spouse     Exec-managerial         Husband   White     Male   \n",
       "2             Divorced   Handlers-cleaners   Not-in-family   White     Male   \n",
       "3   Married-civ-spouse   Handlers-cleaners         Husband   Black     Male   \n",
       "4   Married-civ-spouse      Prof-specialty            Wife   Black   Female   \n",
       "\n",
       "   capital-gain  capital-loss  hours-per-week  native-country  salary  \n",
       "0          2174             0              40   United-States       0  \n",
       "1             0             0              13   United-States       0  \n",
       "2             0             0              40   United-States       0  \n",
       "3             0             0              40   United-States       0  \n",
       "4             0             0              40            Cuba       0  "
      ]
     },
     "execution_count": 77,
     "metadata": {},
     "output_type": "execute_result"
    }
   ],
   "source": [
    "df.head()"
   ]
  },
  {
   "cell_type": "code",
   "execution_count": 78,
   "metadata": {},
   "outputs": [
    {
     "data": {
      "text/html": [
       "<div>\n",
       "<style scoped>\n",
       "    .dataframe tbody tr th:only-of-type {\n",
       "        vertical-align: middle;\n",
       "    }\n",
       "\n",
       "    .dataframe tbody tr th {\n",
       "        vertical-align: top;\n",
       "    }\n",
       "\n",
       "    .dataframe thead th {\n",
       "        text-align: right;\n",
       "    }\n",
       "</style>\n",
       "<table border=\"1\" class=\"dataframe\">\n",
       "  <thead>\n",
       "    <tr style=\"text-align: right;\">\n",
       "      <th></th>\n",
       "      <th>age</th>\n",
       "      <th>workclass</th>\n",
       "      <th>fnlwgt</th>\n",
       "      <th>education</th>\n",
       "      <th>education-num</th>\n",
       "      <th>marital-status</th>\n",
       "      <th>occupation</th>\n",
       "      <th>relationship</th>\n",
       "      <th>race</th>\n",
       "      <th>sex</th>\n",
       "      <th>capital-gain</th>\n",
       "      <th>capital-loss</th>\n",
       "      <th>hours-per-week</th>\n",
       "      <th>native-country</th>\n",
       "      <th>salary</th>\n",
       "    </tr>\n",
       "  </thead>\n",
       "  <tbody>\n",
       "    <tr>\n",
       "      <th>0</th>\n",
       "      <td>39</td>\n",
       "      <td>State-gov</td>\n",
       "      <td>77516</td>\n",
       "      <td>Bachelors</td>\n",
       "      <td>13</td>\n",
       "      <td>Never-married</td>\n",
       "      <td>Adm-clerical</td>\n",
       "      <td>Not-in-family</td>\n",
       "      <td>White</td>\n",
       "      <td>Male</td>\n",
       "      <td>2174</td>\n",
       "      <td>0</td>\n",
       "      <td>40</td>\n",
       "      <td>United-States</td>\n",
       "      <td>0</td>\n",
       "    </tr>\n",
       "    <tr>\n",
       "      <th>1</th>\n",
       "      <td>50</td>\n",
       "      <td>Self-emp-not-inc</td>\n",
       "      <td>83311</td>\n",
       "      <td>Bachelors</td>\n",
       "      <td>13</td>\n",
       "      <td>Married-civ-spouse</td>\n",
       "      <td>Exec-managerial</td>\n",
       "      <td>Husband</td>\n",
       "      <td>White</td>\n",
       "      <td>Male</td>\n",
       "      <td>0</td>\n",
       "      <td>0</td>\n",
       "      <td>13</td>\n",
       "      <td>United-States</td>\n",
       "      <td>0</td>\n",
       "    </tr>\n",
       "    <tr>\n",
       "      <th>2</th>\n",
       "      <td>38</td>\n",
       "      <td>Private</td>\n",
       "      <td>215646</td>\n",
       "      <td>HS-grad</td>\n",
       "      <td>9</td>\n",
       "      <td>Divorced</td>\n",
       "      <td>Handlers-cleaners</td>\n",
       "      <td>Not-in-family</td>\n",
       "      <td>White</td>\n",
       "      <td>Male</td>\n",
       "      <td>0</td>\n",
       "      <td>0</td>\n",
       "      <td>40</td>\n",
       "      <td>United-States</td>\n",
       "      <td>0</td>\n",
       "    </tr>\n",
       "    <tr>\n",
       "      <th>3</th>\n",
       "      <td>53</td>\n",
       "      <td>Private</td>\n",
       "      <td>234721</td>\n",
       "      <td>11th</td>\n",
       "      <td>7</td>\n",
       "      <td>Married-civ-spouse</td>\n",
       "      <td>Handlers-cleaners</td>\n",
       "      <td>Husband</td>\n",
       "      <td>Black</td>\n",
       "      <td>Male</td>\n",
       "      <td>0</td>\n",
       "      <td>0</td>\n",
       "      <td>40</td>\n",
       "      <td>United-States</td>\n",
       "      <td>0</td>\n",
       "    </tr>\n",
       "    <tr>\n",
       "      <th>4</th>\n",
       "      <td>28</td>\n",
       "      <td>Private</td>\n",
       "      <td>338409</td>\n",
       "      <td>Bachelors</td>\n",
       "      <td>13</td>\n",
       "      <td>Married-civ-spouse</td>\n",
       "      <td>Prof-specialty</td>\n",
       "      <td>Wife</td>\n",
       "      <td>Black</td>\n",
       "      <td>Female</td>\n",
       "      <td>0</td>\n",
       "      <td>0</td>\n",
       "      <td>40</td>\n",
       "      <td>Cuba</td>\n",
       "      <td>0</td>\n",
       "    </tr>\n",
       "  </tbody>\n",
       "</table>\n",
       "</div>"
      ],
      "text/plain": [
       "   age          workclass  fnlwgt   education  education-num  \\\n",
       "0   39          State-gov   77516   Bachelors             13   \n",
       "1   50   Self-emp-not-inc   83311   Bachelors             13   \n",
       "2   38            Private  215646     HS-grad              9   \n",
       "3   53            Private  234721        11th              7   \n",
       "4   28            Private  338409   Bachelors             13   \n",
       "\n",
       "        marital-status          occupation    relationship    race      sex  \\\n",
       "0        Never-married        Adm-clerical   Not-in-family   White     Male   \n",
       "1   Married-civ-spouse     Exec-managerial         Husband   White     Male   \n",
       "2             Divorced   Handlers-cleaners   Not-in-family   White     Male   \n",
       "3   Married-civ-spouse   Handlers-cleaners         Husband   Black     Male   \n",
       "4   Married-civ-spouse      Prof-specialty            Wife   Black   Female   \n",
       "\n",
       "   capital-gain  capital-loss  hours-per-week  native-country  salary  \n",
       "0          2174             0              40   United-States       0  \n",
       "1             0             0              13   United-States       0  \n",
       "2             0             0              40   United-States       0  \n",
       "3             0             0              40   United-States       0  \n",
       "4             0             0              40            Cuba       0  "
      ]
     },
     "execution_count": 78,
     "metadata": {},
     "output_type": "execute_result"
    }
   ],
   "source": [
    "golden.head()"
   ]
  },
  {
   "cell_type": "code",
   "execution_count": 79,
   "metadata": {},
   "outputs": [],
   "source": [
    "# define non numeric columns\n",
    "non_numeric_columns = ['workclass', 'education', 'marital-status', 'occupation', 'relationship', 'race', 'sex', 'native-country'] "
   ]
  },
  {
   "cell_type": "code",
   "execution_count": 80,
   "metadata": {},
   "outputs": [
    {
     "data": {
      "text/plain": [
       "age               int64\n",
       "fnlwgt            int64\n",
       "education-num     int64\n",
       "capital-gain      int64\n",
       "capital-loss      int64\n",
       "hours-per-week    int64\n",
       "salary            int32\n",
       "dtype: object"
      ]
     },
     "execution_count": 80,
     "metadata": {},
     "output_type": "execute_result"
    }
   ],
   "source": [
    "x = df.copy().drop(non_numeric_columns, axis = 1)\n",
    "\n",
    "x.dtypes"
   ]
  },
  {
   "cell_type": "code",
   "execution_count": 81,
   "metadata": {},
   "outputs": [],
   "source": [
    "xt = golden.copy().drop(non_numeric_columns, axis = 1)"
   ]
  },
  {
   "cell_type": "code",
   "execution_count": 82,
   "metadata": {},
   "outputs": [
    {
     "data": {
      "text/plain": [
       "age               int64\n",
       "fnlwgt            int64\n",
       "education-num     int64\n",
       "capital-gain      int64\n",
       "capital-loss      int64\n",
       "hours-per-week    int64\n",
       "salary            int32\n",
       "dtype: object"
      ]
     },
     "execution_count": 82,
     "metadata": {},
     "output_type": "execute_result"
    }
   ],
   "source": [
    "xt.dtypes"
   ]
  },
  {
   "cell_type": "markdown",
   "metadata": {},
   "source": [
    "# 1. Show the RandomForest outperforms the DecisionTree for a fixed `max_depth` by training using the train set and `precision`, `recall`, `f1` on golden-test set."
   ]
  },
  {
   "cell_type": "code",
   "execution_count": 83,
   "metadata": {},
   "outputs": [],
   "source": [
    "# decision tree model\n",
    "dt_model = DecisionTreeClassifier(criterion = 'entropy', max_depth = 5)"
   ]
  },
  {
   "cell_type": "code",
   "execution_count": 84,
   "metadata": {},
   "outputs": [
    {
     "data": {
      "text/plain": [
       "DecisionTreeClassifier(criterion='entropy', max_depth=5)"
      ]
     },
     "execution_count": 84,
     "metadata": {},
     "output_type": "execute_result"
    }
   ],
   "source": [
    "dt_model.fit(x.drop(['fnlwgt','salary'], axis = 1), x.salary)"
   ]
  },
  {
   "cell_type": "code",
   "execution_count": 85,
   "metadata": {},
   "outputs": [
    {
     "data": {
      "text/plain": [
       "49"
      ]
     },
     "execution_count": 85,
     "metadata": {},
     "output_type": "execute_result"
    }
   ],
   "source": [
    "dt_model.tree_.node_count"
   ]
  },
  {
   "cell_type": "code",
   "execution_count": 86,
   "metadata": {},
   "outputs": [
    {
     "data": {
      "text/plain": [
       "[('age', 0.28826906841145405),\n",
       " ('education-num', 0.21834980679407853),\n",
       " ('capital-gain', 0.3635623923390058),\n",
       " ('capital-loss', 0.10304106489113109),\n",
       " ('hours-per-week', 0.026777667564330546)]"
      ]
     },
     "execution_count": 86,
     "metadata": {},
     "output_type": "execute_result"
    }
   ],
   "source": [
    "list(zip(x.drop(['fnlwgt','salary'], axis = 1).columns, dt_model.feature_importances_))"
   ]
  },
  {
   "cell_type": "code",
   "execution_count": 87,
   "metadata": {},
   "outputs": [
    {
     "data": {
      "text/html": [
       "<div>\n",
       "<style scoped>\n",
       "    .dataframe tbody tr th:only-of-type {\n",
       "        vertical-align: middle;\n",
       "    }\n",
       "\n",
       "    .dataframe tbody tr th {\n",
       "        vertical-align: top;\n",
       "    }\n",
       "\n",
       "    .dataframe thead th {\n",
       "        text-align: right;\n",
       "    }\n",
       "</style>\n",
       "<table border=\"1\" class=\"dataframe\">\n",
       "  <thead>\n",
       "    <tr style=\"text-align: right;\">\n",
       "      <th></th>\n",
       "      <th>age</th>\n",
       "      <th>education-num</th>\n",
       "      <th>capital-gain</th>\n",
       "      <th>capital-loss</th>\n",
       "      <th>hours-per-week</th>\n",
       "    </tr>\n",
       "  </thead>\n",
       "  <tbody>\n",
       "    <tr>\n",
       "      <th>0</th>\n",
       "      <td>39</td>\n",
       "      <td>13</td>\n",
       "      <td>2174</td>\n",
       "      <td>0</td>\n",
       "      <td>40</td>\n",
       "    </tr>\n",
       "    <tr>\n",
       "      <th>1</th>\n",
       "      <td>50</td>\n",
       "      <td>13</td>\n",
       "      <td>0</td>\n",
       "      <td>0</td>\n",
       "      <td>13</td>\n",
       "    </tr>\n",
       "    <tr>\n",
       "      <th>2</th>\n",
       "      <td>38</td>\n",
       "      <td>9</td>\n",
       "      <td>0</td>\n",
       "      <td>0</td>\n",
       "      <td>40</td>\n",
       "    </tr>\n",
       "    <tr>\n",
       "      <th>3</th>\n",
       "      <td>53</td>\n",
       "      <td>7</td>\n",
       "      <td>0</td>\n",
       "      <td>0</td>\n",
       "      <td>40</td>\n",
       "    </tr>\n",
       "    <tr>\n",
       "      <th>4</th>\n",
       "      <td>28</td>\n",
       "      <td>13</td>\n",
       "      <td>0</td>\n",
       "      <td>0</td>\n",
       "      <td>40</td>\n",
       "    </tr>\n",
       "  </tbody>\n",
       "</table>\n",
       "</div>"
      ],
      "text/plain": [
       "   age  education-num  capital-gain  capital-loss  hours-per-week\n",
       "0   39             13          2174             0              40\n",
       "1   50             13             0             0              13\n",
       "2   38              9             0             0              40\n",
       "3   53              7             0             0              40\n",
       "4   28             13             0             0              40"
      ]
     },
     "execution_count": 87,
     "metadata": {},
     "output_type": "execute_result"
    }
   ],
   "source": [
    "x.drop(['fnlwgt','salary'], axis = 1).head()"
   ]
  },
  {
   "cell_type": "code",
   "execution_count": 88,
   "metadata": {},
   "outputs": [
    {
     "data": {
      "text/plain": [
       "['age',\n",
       " 'fnlwgt',\n",
       " 'education-num',\n",
       " 'capital-gain',\n",
       " 'capital-loss',\n",
       " 'hours-per-week']"
      ]
     },
     "execution_count": 88,
     "metadata": {},
     "output_type": "execute_result"
    }
   ],
   "source": [
    "list(x.drop('salary', axis = 1).columns)"
   ]
  },
  {
   "cell_type": "code",
   "execution_count": 89,
   "metadata": {},
   "outputs": [],
   "source": [
    "dt_predictions = dt_model.predict(xt.drop(['fnlwgt','salary'], axis = 1))"
   ]
  },
  {
   "cell_type": "code",
   "execution_count": 90,
   "metadata": {},
   "outputs": [],
   "source": [
    "# random forest model\n",
    "rf_model = RandomForestClassifier(criterion = 'entropy')"
   ]
  },
  {
   "cell_type": "code",
   "execution_count": 91,
   "metadata": {},
   "outputs": [
    {
     "data": {
      "text/plain": [
       "RandomForestClassifier(criterion='entropy')"
      ]
     },
     "execution_count": 91,
     "metadata": {},
     "output_type": "execute_result"
    }
   ],
   "source": [
    "rf_model.fit(x.drop(['fnlwgt','salary'], axis = 1), x.salary)"
   ]
  },
  {
   "cell_type": "code",
   "execution_count": 92,
   "metadata": {},
   "outputs": [
    {
     "data": {
      "text/plain": [
       "[('age', 0.3515563017992762),\n",
       " ('education-num', 0.17583541918138804),\n",
       " ('capital-gain', 0.20508101042706098),\n",
       " ('capital-loss', 0.08195735798096222),\n",
       " ('hours-per-week', 0.18556991061131267)]"
      ]
     },
     "execution_count": 92,
     "metadata": {},
     "output_type": "execute_result"
    }
   ],
   "source": [
    "list(zip(x.drop(['fnlwgt','salary'], axis = 1).columns, rf_model.feature_importances_))"
   ]
  },
  {
   "cell_type": "code",
   "execution_count": 93,
   "metadata": {},
   "outputs": [
    {
     "data": {
      "text/html": [
       "<div>\n",
       "<style scoped>\n",
       "    .dataframe tbody tr th:only-of-type {\n",
       "        vertical-align: middle;\n",
       "    }\n",
       "\n",
       "    .dataframe tbody tr th {\n",
       "        vertical-align: top;\n",
       "    }\n",
       "\n",
       "    .dataframe thead th {\n",
       "        text-align: right;\n",
       "    }\n",
       "</style>\n",
       "<table border=\"1\" class=\"dataframe\">\n",
       "  <thead>\n",
       "    <tr style=\"text-align: right;\">\n",
       "      <th></th>\n",
       "      <th>age</th>\n",
       "      <th>education-num</th>\n",
       "      <th>capital-gain</th>\n",
       "      <th>capital-loss</th>\n",
       "      <th>hours-per-week</th>\n",
       "    </tr>\n",
       "  </thead>\n",
       "  <tbody>\n",
       "    <tr>\n",
       "      <th>0</th>\n",
       "      <td>39</td>\n",
       "      <td>13</td>\n",
       "      <td>2174</td>\n",
       "      <td>0</td>\n",
       "      <td>40</td>\n",
       "    </tr>\n",
       "    <tr>\n",
       "      <th>1</th>\n",
       "      <td>50</td>\n",
       "      <td>13</td>\n",
       "      <td>0</td>\n",
       "      <td>0</td>\n",
       "      <td>13</td>\n",
       "    </tr>\n",
       "    <tr>\n",
       "      <th>2</th>\n",
       "      <td>38</td>\n",
       "      <td>9</td>\n",
       "      <td>0</td>\n",
       "      <td>0</td>\n",
       "      <td>40</td>\n",
       "    </tr>\n",
       "    <tr>\n",
       "      <th>3</th>\n",
       "      <td>53</td>\n",
       "      <td>7</td>\n",
       "      <td>0</td>\n",
       "      <td>0</td>\n",
       "      <td>40</td>\n",
       "    </tr>\n",
       "    <tr>\n",
       "      <th>4</th>\n",
       "      <td>28</td>\n",
       "      <td>13</td>\n",
       "      <td>0</td>\n",
       "      <td>0</td>\n",
       "      <td>40</td>\n",
       "    </tr>\n",
       "  </tbody>\n",
       "</table>\n",
       "</div>"
      ],
      "text/plain": [
       "   age  education-num  capital-gain  capital-loss  hours-per-week\n",
       "0   39             13          2174             0              40\n",
       "1   50             13             0             0              13\n",
       "2   38              9             0             0              40\n",
       "3   53              7             0             0              40\n",
       "4   28             13             0             0              40"
      ]
     },
     "execution_count": 93,
     "metadata": {},
     "output_type": "execute_result"
    }
   ],
   "source": [
    "x.drop(['fnlwgt','salary'], axis = 1).head()"
   ]
  },
  {
   "cell_type": "code",
   "execution_count": 94,
   "metadata": {},
   "outputs": [],
   "source": [
    "rf_predictions = rf_model.predict(xt.drop(['fnlwgt','salary'], axis = 1))"
   ]
  },
  {
   "cell_type": "code",
   "execution_count": 95,
   "metadata": {},
   "outputs": [],
   "source": [
    "from sklearn.metrics import (accuracy_score, classification_report, confusion_matrix, auc, roc_curve)"
   ]
  },
  {
   "cell_type": "code",
   "execution_count": 96,
   "metadata": {},
   "outputs": [
    {
     "data": {
      "text/plain": [
       "(0.8283836491508246, 0.8840944688430945)"
      ]
     },
     "execution_count": 96,
     "metadata": {},
     "output_type": "execute_result"
    }
   ],
   "source": [
    "# compare performance of dt and rf\n",
    "accuracy_score(xt.salary, dt_predictions), accuracy_score(xt.salary, rf_predictions)"
   ]
  },
  {
   "cell_type": "code",
   "execution_count": 97,
   "metadata": {},
   "outputs": [
    {
     "data": {
      "text/plain": [
       "(array([[23610,  1110],\n",
       "        [ 4478,  3363]], dtype=int64),\n",
       " array([[23915,   805],\n",
       "        [ 2969,  4872]], dtype=int64))"
      ]
     },
     "execution_count": 97,
     "metadata": {},
     "output_type": "execute_result"
    }
   ],
   "source": [
    "confusion_matrix(xt.salary, dt_predictions), confusion_matrix(xt.salary, rf_predictions)"
   ]
  },
  {
   "cell_type": "code",
   "execution_count": 98,
   "metadata": {},
   "outputs": [
    {
     "name": "stdout",
     "output_type": "stream",
     "text": [
      "              precision    recall  f1-score   support\n",
      "\n",
      "           0       0.84      0.96      0.89     24720\n",
      "           1       0.75      0.43      0.55      7841\n",
      "\n",
      "    accuracy                           0.83     32561\n",
      "   macro avg       0.80      0.69      0.72     32561\n",
      "weighted avg       0.82      0.83      0.81     32561\n",
      "\n",
      "              precision    recall  f1-score   support\n",
      "\n",
      "           0       0.89      0.97      0.93     24720\n",
      "           1       0.86      0.62      0.72      7841\n",
      "\n",
      "    accuracy                           0.88     32561\n",
      "   macro avg       0.87      0.79      0.82     32561\n",
      "weighted avg       0.88      0.88      0.88     32561\n",
      "\n"
     ]
    },
    {
     "data": {
      "text/plain": [
       "(None, None)"
      ]
     },
     "execution_count": 98,
     "metadata": {},
     "output_type": "execute_result"
    }
   ],
   "source": [
    "print(classification_report(xt.salary, dt_predictions)), print(classification_report(xt.salary, rf_predictions))"
   ]
  },
  {
   "cell_type": "markdown",
   "metadata": {},
   "source": [
    "# 2. For RandomForest or DecisionTree and using the `adult` dataset, systematically add new columns, one by one, that are non-numerical but converted using the feature-extraction techniques we learned. Show [`precision`, `recall`, `f1`] for each additional feature added."
   ]
  },
  {
   "cell_type": "code",
   "execution_count": 99,
   "metadata": {},
   "outputs": [
    {
     "data": {
      "text/html": [
       "<div>\n",
       "<style scoped>\n",
       "    .dataframe tbody tr th:only-of-type {\n",
       "        vertical-align: middle;\n",
       "    }\n",
       "\n",
       "    .dataframe tbody tr th {\n",
       "        vertical-align: top;\n",
       "    }\n",
       "\n",
       "    .dataframe thead th {\n",
       "        text-align: right;\n",
       "    }\n",
       "</style>\n",
       "<table border=\"1\" class=\"dataframe\">\n",
       "  <thead>\n",
       "    <tr style=\"text-align: right;\">\n",
       "      <th></th>\n",
       "      <th>age</th>\n",
       "      <th>fnlwgt</th>\n",
       "      <th>education-num</th>\n",
       "      <th>capital-gain</th>\n",
       "      <th>capital-loss</th>\n",
       "      <th>hours-per-week</th>\n",
       "      <th>salary</th>\n",
       "    </tr>\n",
       "  </thead>\n",
       "  <tbody>\n",
       "    <tr>\n",
       "      <th>0</th>\n",
       "      <td>39</td>\n",
       "      <td>77516</td>\n",
       "      <td>13</td>\n",
       "      <td>2174</td>\n",
       "      <td>0</td>\n",
       "      <td>40</td>\n",
       "      <td>0</td>\n",
       "    </tr>\n",
       "    <tr>\n",
       "      <th>1</th>\n",
       "      <td>50</td>\n",
       "      <td>83311</td>\n",
       "      <td>13</td>\n",
       "      <td>0</td>\n",
       "      <td>0</td>\n",
       "      <td>13</td>\n",
       "      <td>0</td>\n",
       "    </tr>\n",
       "    <tr>\n",
       "      <th>2</th>\n",
       "      <td>38</td>\n",
       "      <td>215646</td>\n",
       "      <td>9</td>\n",
       "      <td>0</td>\n",
       "      <td>0</td>\n",
       "      <td>40</td>\n",
       "      <td>0</td>\n",
       "    </tr>\n",
       "    <tr>\n",
       "      <th>3</th>\n",
       "      <td>53</td>\n",
       "      <td>234721</td>\n",
       "      <td>7</td>\n",
       "      <td>0</td>\n",
       "      <td>0</td>\n",
       "      <td>40</td>\n",
       "      <td>0</td>\n",
       "    </tr>\n",
       "    <tr>\n",
       "      <th>4</th>\n",
       "      <td>28</td>\n",
       "      <td>338409</td>\n",
       "      <td>13</td>\n",
       "      <td>0</td>\n",
       "      <td>0</td>\n",
       "      <td>40</td>\n",
       "      <td>0</td>\n",
       "    </tr>\n",
       "  </tbody>\n",
       "</table>\n",
       "</div>"
      ],
      "text/plain": [
       "   age  fnlwgt  education-num  capital-gain  capital-loss  hours-per-week  \\\n",
       "0   39   77516             13          2174             0              40   \n",
       "1   50   83311             13             0             0              13   \n",
       "2   38  215646              9             0             0              40   \n",
       "3   53  234721              7             0             0              40   \n",
       "4   28  338409             13             0             0              40   \n",
       "\n",
       "   salary  \n",
       "0       0  \n",
       "1       0  \n",
       "2       0  \n",
       "3       0  \n",
       "4       0  "
      ]
     },
     "execution_count": 99,
     "metadata": {},
     "output_type": "execute_result"
    }
   ],
   "source": [
    "# bring back og df w/ dropped non numerical columns\n",
    "x = df.copy().drop(non_numeric_columns, axis = 1)\n",
    "\n",
    "x.head()"
   ]
  },
  {
   "cell_type": "code",
   "execution_count": 100,
   "metadata": {},
   "outputs": [],
   "source": [
    "od_enc = preprocessing.OrdinalEncoder()"
   ]
  },
  {
   "cell_type": "markdown",
   "metadata": {},
   "source": [
    "### workclass"
   ]
  },
  {
   "cell_type": "code",
   "execution_count": 101,
   "metadata": {},
   "outputs": [],
   "source": [
    "transform_columns = ['workclass']\n",
    "\n",
    "x = df.copy()\n",
    "x = pd.concat([x.drop(non_numeric_columns, axis = 1), pd.get_dummies(df[transform_columns])], axis = 1,)\n",
    "x['workclass'] = enc.fit_transform(df[['workclass']])"
   ]
  },
  {
   "cell_type": "code",
   "execution_count": 102,
   "metadata": {},
   "outputs": [
    {
     "data": {
      "text/html": [
       "<div>\n",
       "<style scoped>\n",
       "    .dataframe tbody tr th:only-of-type {\n",
       "        vertical-align: middle;\n",
       "    }\n",
       "\n",
       "    .dataframe tbody tr th {\n",
       "        vertical-align: top;\n",
       "    }\n",
       "\n",
       "    .dataframe thead th {\n",
       "        text-align: right;\n",
       "    }\n",
       "</style>\n",
       "<table border=\"1\" class=\"dataframe\">\n",
       "  <thead>\n",
       "    <tr style=\"text-align: right;\">\n",
       "      <th></th>\n",
       "      <th>age</th>\n",
       "      <th>fnlwgt</th>\n",
       "      <th>education-num</th>\n",
       "      <th>capital-gain</th>\n",
       "      <th>capital-loss</th>\n",
       "      <th>hours-per-week</th>\n",
       "      <th>salary</th>\n",
       "      <th>workclass_ ?</th>\n",
       "      <th>workclass_ Federal-gov</th>\n",
       "      <th>workclass_ Local-gov</th>\n",
       "      <th>workclass_ Never-worked</th>\n",
       "      <th>workclass_ Private</th>\n",
       "      <th>workclass_ Self-emp-inc</th>\n",
       "      <th>workclass_ Self-emp-not-inc</th>\n",
       "      <th>workclass_ State-gov</th>\n",
       "      <th>workclass_ Without-pay</th>\n",
       "      <th>workclass</th>\n",
       "    </tr>\n",
       "  </thead>\n",
       "  <tbody>\n",
       "    <tr>\n",
       "      <th>0</th>\n",
       "      <td>39</td>\n",
       "      <td>77516</td>\n",
       "      <td>13</td>\n",
       "      <td>2174</td>\n",
       "      <td>0</td>\n",
       "      <td>40</td>\n",
       "      <td>0.0</td>\n",
       "      <td>0</td>\n",
       "      <td>0</td>\n",
       "      <td>0</td>\n",
       "      <td>0</td>\n",
       "      <td>0</td>\n",
       "      <td>0</td>\n",
       "      <td>0</td>\n",
       "      <td>1</td>\n",
       "      <td>0</td>\n",
       "      <td>7.0</td>\n",
       "    </tr>\n",
       "    <tr>\n",
       "      <th>1</th>\n",
       "      <td>50</td>\n",
       "      <td>83311</td>\n",
       "      <td>13</td>\n",
       "      <td>0</td>\n",
       "      <td>0</td>\n",
       "      <td>13</td>\n",
       "      <td>0.0</td>\n",
       "      <td>0</td>\n",
       "      <td>0</td>\n",
       "      <td>0</td>\n",
       "      <td>0</td>\n",
       "      <td>0</td>\n",
       "      <td>0</td>\n",
       "      <td>1</td>\n",
       "      <td>0</td>\n",
       "      <td>0</td>\n",
       "      <td>6.0</td>\n",
       "    </tr>\n",
       "    <tr>\n",
       "      <th>2</th>\n",
       "      <td>38</td>\n",
       "      <td>215646</td>\n",
       "      <td>9</td>\n",
       "      <td>0</td>\n",
       "      <td>0</td>\n",
       "      <td>40</td>\n",
       "      <td>0.0</td>\n",
       "      <td>0</td>\n",
       "      <td>0</td>\n",
       "      <td>0</td>\n",
       "      <td>0</td>\n",
       "      <td>1</td>\n",
       "      <td>0</td>\n",
       "      <td>0</td>\n",
       "      <td>0</td>\n",
       "      <td>0</td>\n",
       "      <td>4.0</td>\n",
       "    </tr>\n",
       "    <tr>\n",
       "      <th>3</th>\n",
       "      <td>53</td>\n",
       "      <td>234721</td>\n",
       "      <td>7</td>\n",
       "      <td>0</td>\n",
       "      <td>0</td>\n",
       "      <td>40</td>\n",
       "      <td>0.0</td>\n",
       "      <td>0</td>\n",
       "      <td>0</td>\n",
       "      <td>0</td>\n",
       "      <td>0</td>\n",
       "      <td>1</td>\n",
       "      <td>0</td>\n",
       "      <td>0</td>\n",
       "      <td>0</td>\n",
       "      <td>0</td>\n",
       "      <td>4.0</td>\n",
       "    </tr>\n",
       "    <tr>\n",
       "      <th>4</th>\n",
       "      <td>28</td>\n",
       "      <td>338409</td>\n",
       "      <td>13</td>\n",
       "      <td>0</td>\n",
       "      <td>0</td>\n",
       "      <td>40</td>\n",
       "      <td>0.0</td>\n",
       "      <td>0</td>\n",
       "      <td>0</td>\n",
       "      <td>0</td>\n",
       "      <td>0</td>\n",
       "      <td>1</td>\n",
       "      <td>0</td>\n",
       "      <td>0</td>\n",
       "      <td>0</td>\n",
       "      <td>0</td>\n",
       "      <td>4.0</td>\n",
       "    </tr>\n",
       "  </tbody>\n",
       "</table>\n",
       "</div>"
      ],
      "text/plain": [
       "   age  fnlwgt  education-num  capital-gain  capital-loss  hours-per-week  \\\n",
       "0   39   77516             13          2174             0              40   \n",
       "1   50   83311             13             0             0              13   \n",
       "2   38  215646              9             0             0              40   \n",
       "3   53  234721              7             0             0              40   \n",
       "4   28  338409             13             0             0              40   \n",
       "\n",
       "   salary  workclass_ ?  workclass_ Federal-gov  workclass_ Local-gov  \\\n",
       "0     0.0             0                       0                     0   \n",
       "1     0.0             0                       0                     0   \n",
       "2     0.0             0                       0                     0   \n",
       "3     0.0             0                       0                     0   \n",
       "4     0.0             0                       0                     0   \n",
       "\n",
       "   workclass_ Never-worked  workclass_ Private  workclass_ Self-emp-inc  \\\n",
       "0                        0                   0                        0   \n",
       "1                        0                   0                        0   \n",
       "2                        0                   1                        0   \n",
       "3                        0                   1                        0   \n",
       "4                        0                   1                        0   \n",
       "\n",
       "   workclass_ Self-emp-not-inc  workclass_ State-gov  workclass_ Without-pay  \\\n",
       "0                            0                     1                       0   \n",
       "1                            1                     0                       0   \n",
       "2                            0                     0                       0   \n",
       "3                            0                     0                       0   \n",
       "4                            0                     0                       0   \n",
       "\n",
       "   workclass  \n",
       "0        7.0  \n",
       "1        6.0  \n",
       "2        4.0  \n",
       "3        4.0  \n",
       "4        4.0  "
      ]
     },
     "execution_count": 102,
     "metadata": {},
     "output_type": "execute_result"
    }
   ],
   "source": [
    "x.head()"
   ]
  },
  {
   "cell_type": "code",
   "execution_count": 103,
   "metadata": {},
   "outputs": [],
   "source": [
    "xt = golden.copy()\n",
    "xt = pd.concat([xt.drop(non_numeric_columns, axis = 1), pd.get_dummies(golden[transform_columns])], axis = 1,)\n",
    "xt['workclass'] = enc.fit_transform(golden[['workclass']])"
   ]
  },
  {
   "cell_type": "code",
   "execution_count": 104,
   "metadata": {},
   "outputs": [
    {
     "data": {
      "text/html": [
       "<div>\n",
       "<style scoped>\n",
       "    .dataframe tbody tr th:only-of-type {\n",
       "        vertical-align: middle;\n",
       "    }\n",
       "\n",
       "    .dataframe tbody tr th {\n",
       "        vertical-align: top;\n",
       "    }\n",
       "\n",
       "    .dataframe thead th {\n",
       "        text-align: right;\n",
       "    }\n",
       "</style>\n",
       "<table border=\"1\" class=\"dataframe\">\n",
       "  <thead>\n",
       "    <tr style=\"text-align: right;\">\n",
       "      <th></th>\n",
       "      <th>age</th>\n",
       "      <th>fnlwgt</th>\n",
       "      <th>education-num</th>\n",
       "      <th>capital-gain</th>\n",
       "      <th>capital-loss</th>\n",
       "      <th>hours-per-week</th>\n",
       "      <th>salary</th>\n",
       "      <th>workclass_ ?</th>\n",
       "      <th>workclass_ Federal-gov</th>\n",
       "      <th>workclass_ Local-gov</th>\n",
       "      <th>workclass_ Never-worked</th>\n",
       "      <th>workclass_ Private</th>\n",
       "      <th>workclass_ Self-emp-inc</th>\n",
       "      <th>workclass_ Self-emp-not-inc</th>\n",
       "      <th>workclass_ State-gov</th>\n",
       "      <th>workclass_ Without-pay</th>\n",
       "      <th>workclass</th>\n",
       "    </tr>\n",
       "  </thead>\n",
       "  <tbody>\n",
       "    <tr>\n",
       "      <th>0</th>\n",
       "      <td>39</td>\n",
       "      <td>77516</td>\n",
       "      <td>13</td>\n",
       "      <td>2174</td>\n",
       "      <td>0</td>\n",
       "      <td>40</td>\n",
       "      <td>0.0</td>\n",
       "      <td>0</td>\n",
       "      <td>0</td>\n",
       "      <td>0</td>\n",
       "      <td>0</td>\n",
       "      <td>0</td>\n",
       "      <td>0</td>\n",
       "      <td>0</td>\n",
       "      <td>1</td>\n",
       "      <td>0</td>\n",
       "      <td>7.0</td>\n",
       "    </tr>\n",
       "    <tr>\n",
       "      <th>1</th>\n",
       "      <td>50</td>\n",
       "      <td>83311</td>\n",
       "      <td>13</td>\n",
       "      <td>0</td>\n",
       "      <td>0</td>\n",
       "      <td>13</td>\n",
       "      <td>0.0</td>\n",
       "      <td>0</td>\n",
       "      <td>0</td>\n",
       "      <td>0</td>\n",
       "      <td>0</td>\n",
       "      <td>0</td>\n",
       "      <td>0</td>\n",
       "      <td>1</td>\n",
       "      <td>0</td>\n",
       "      <td>0</td>\n",
       "      <td>6.0</td>\n",
       "    </tr>\n",
       "    <tr>\n",
       "      <th>2</th>\n",
       "      <td>38</td>\n",
       "      <td>215646</td>\n",
       "      <td>9</td>\n",
       "      <td>0</td>\n",
       "      <td>0</td>\n",
       "      <td>40</td>\n",
       "      <td>0.0</td>\n",
       "      <td>0</td>\n",
       "      <td>0</td>\n",
       "      <td>0</td>\n",
       "      <td>0</td>\n",
       "      <td>1</td>\n",
       "      <td>0</td>\n",
       "      <td>0</td>\n",
       "      <td>0</td>\n",
       "      <td>0</td>\n",
       "      <td>4.0</td>\n",
       "    </tr>\n",
       "    <tr>\n",
       "      <th>3</th>\n",
       "      <td>53</td>\n",
       "      <td>234721</td>\n",
       "      <td>7</td>\n",
       "      <td>0</td>\n",
       "      <td>0</td>\n",
       "      <td>40</td>\n",
       "      <td>0.0</td>\n",
       "      <td>0</td>\n",
       "      <td>0</td>\n",
       "      <td>0</td>\n",
       "      <td>0</td>\n",
       "      <td>1</td>\n",
       "      <td>0</td>\n",
       "      <td>0</td>\n",
       "      <td>0</td>\n",
       "      <td>0</td>\n",
       "      <td>4.0</td>\n",
       "    </tr>\n",
       "    <tr>\n",
       "      <th>4</th>\n",
       "      <td>28</td>\n",
       "      <td>338409</td>\n",
       "      <td>13</td>\n",
       "      <td>0</td>\n",
       "      <td>0</td>\n",
       "      <td>40</td>\n",
       "      <td>0.0</td>\n",
       "      <td>0</td>\n",
       "      <td>0</td>\n",
       "      <td>0</td>\n",
       "      <td>0</td>\n",
       "      <td>1</td>\n",
       "      <td>0</td>\n",
       "      <td>0</td>\n",
       "      <td>0</td>\n",
       "      <td>0</td>\n",
       "      <td>4.0</td>\n",
       "    </tr>\n",
       "  </tbody>\n",
       "</table>\n",
       "</div>"
      ],
      "text/plain": [
       "   age  fnlwgt  education-num  capital-gain  capital-loss  hours-per-week  \\\n",
       "0   39   77516             13          2174             0              40   \n",
       "1   50   83311             13             0             0              13   \n",
       "2   38  215646              9             0             0              40   \n",
       "3   53  234721              7             0             0              40   \n",
       "4   28  338409             13             0             0              40   \n",
       "\n",
       "   salary  workclass_ ?  workclass_ Federal-gov  workclass_ Local-gov  \\\n",
       "0     0.0             0                       0                     0   \n",
       "1     0.0             0                       0                     0   \n",
       "2     0.0             0                       0                     0   \n",
       "3     0.0             0                       0                     0   \n",
       "4     0.0             0                       0                     0   \n",
       "\n",
       "   workclass_ Never-worked  workclass_ Private  workclass_ Self-emp-inc  \\\n",
       "0                        0                   0                        0   \n",
       "1                        0                   0                        0   \n",
       "2                        0                   1                        0   \n",
       "3                        0                   1                        0   \n",
       "4                        0                   1                        0   \n",
       "\n",
       "   workclass_ Self-emp-not-inc  workclass_ State-gov  workclass_ Without-pay  \\\n",
       "0                            0                     1                       0   \n",
       "1                            1                     0                       0   \n",
       "2                            0                     0                       0   \n",
       "3                            0                     0                       0   \n",
       "4                            0                     0                       0   \n",
       "\n",
       "   workclass  \n",
       "0        7.0  \n",
       "1        6.0  \n",
       "2        4.0  \n",
       "3        4.0  \n",
       "4        4.0  "
      ]
     },
     "execution_count": 104,
     "metadata": {},
     "output_type": "execute_result"
    }
   ],
   "source": [
    "xt.head()"
   ]
  },
  {
   "cell_type": "code",
   "execution_count": 105,
   "metadata": {},
   "outputs": [],
   "source": [
    "# decision tree model\n",
    "dt_model = DecisionTreeClassifier(criterion = 'entropy', max_depth = 5)"
   ]
  },
  {
   "cell_type": "code",
   "execution_count": 106,
   "metadata": {},
   "outputs": [
    {
     "data": {
      "text/plain": [
       "DecisionTreeClassifier(criterion='entropy', max_depth=5)"
      ]
     },
     "execution_count": 106,
     "metadata": {},
     "output_type": "execute_result"
    }
   ],
   "source": [
    "dt_model.fit(x.drop(['fnlwgt','salary'], axis = 1), x.salary)"
   ]
  },
  {
   "cell_type": "code",
   "execution_count": 107,
   "metadata": {},
   "outputs": [
    {
     "data": {
      "text/plain": [
       "49"
      ]
     },
     "execution_count": 107,
     "metadata": {},
     "output_type": "execute_result"
    }
   ],
   "source": [
    "dt_model.tree_.node_count"
   ]
  },
  {
   "cell_type": "code",
   "execution_count": 108,
   "metadata": {},
   "outputs": [
    {
     "data": {
      "text/plain": [
       "[('age', 0.2876350359216461),\n",
       " ('education-num', 0.21886003085459996),\n",
       " ('capital-gain', 0.3634735443095578),\n",
       " ('capital-loss', 0.10301588353090045),\n",
       " ('hours-per-week', 0.02640936747862001),\n",
       " ('workclass_ ?', 0.0),\n",
       " ('workclass_ Federal-gov', 0.0),\n",
       " ('workclass_ Local-gov', 0.0),\n",
       " ('workclass_ Never-worked', 0.0),\n",
       " ('workclass_ Private', 0.0),\n",
       " ('workclass_ Self-emp-inc', 0.0),\n",
       " ('workclass_ Self-emp-not-inc', 0.0006061379046757821),\n",
       " ('workclass_ State-gov', 0.0),\n",
       " ('workclass_ Without-pay', 0.0),\n",
       " ('workclass', 0.0)]"
      ]
     },
     "execution_count": 108,
     "metadata": {},
     "output_type": "execute_result"
    }
   ],
   "source": [
    "list(zip(x.drop(['fnlwgt','salary'], axis = 1).columns, dt_model.feature_importances_))"
   ]
  },
  {
   "cell_type": "code",
   "execution_count": 118,
   "metadata": {},
   "outputs": [
    {
     "data": {
      "text/html": [
       "<div>\n",
       "<style scoped>\n",
       "    .dataframe tbody tr th:only-of-type {\n",
       "        vertical-align: middle;\n",
       "    }\n",
       "\n",
       "    .dataframe tbody tr th {\n",
       "        vertical-align: top;\n",
       "    }\n",
       "\n",
       "    .dataframe thead th {\n",
       "        text-align: right;\n",
       "    }\n",
       "</style>\n",
       "<table border=\"1\" class=\"dataframe\">\n",
       "  <thead>\n",
       "    <tr style=\"text-align: right;\">\n",
       "      <th></th>\n",
       "      <th>age</th>\n",
       "      <th>education-num</th>\n",
       "      <th>capital-gain</th>\n",
       "      <th>capital-loss</th>\n",
       "      <th>hours-per-week</th>\n",
       "      <th>workclass_ ?</th>\n",
       "      <th>workclass_ Federal-gov</th>\n",
       "      <th>workclass_ Local-gov</th>\n",
       "      <th>workclass_ Never-worked</th>\n",
       "      <th>workclass_ Private</th>\n",
       "      <th>...</th>\n",
       "      <th>education_ Assoc-voc</th>\n",
       "      <th>education_ Bachelors</th>\n",
       "      <th>education_ Doctorate</th>\n",
       "      <th>education_ HS-grad</th>\n",
       "      <th>education_ Masters</th>\n",
       "      <th>education_ Preschool</th>\n",
       "      <th>education_ Prof-school</th>\n",
       "      <th>education_ Some-college</th>\n",
       "      <th>workclass</th>\n",
       "      <th>education</th>\n",
       "    </tr>\n",
       "  </thead>\n",
       "  <tbody>\n",
       "    <tr>\n",
       "      <th>0</th>\n",
       "      <td>39</td>\n",
       "      <td>13</td>\n",
       "      <td>2174</td>\n",
       "      <td>0</td>\n",
       "      <td>40</td>\n",
       "      <td>0</td>\n",
       "      <td>0</td>\n",
       "      <td>0</td>\n",
       "      <td>0</td>\n",
       "      <td>0</td>\n",
       "      <td>...</td>\n",
       "      <td>0</td>\n",
       "      <td>1</td>\n",
       "      <td>0</td>\n",
       "      <td>0</td>\n",
       "      <td>0</td>\n",
       "      <td>0</td>\n",
       "      <td>0</td>\n",
       "      <td>0</td>\n",
       "      <td>7.0</td>\n",
       "      <td>9.0</td>\n",
       "    </tr>\n",
       "    <tr>\n",
       "      <th>1</th>\n",
       "      <td>50</td>\n",
       "      <td>13</td>\n",
       "      <td>0</td>\n",
       "      <td>0</td>\n",
       "      <td>13</td>\n",
       "      <td>0</td>\n",
       "      <td>0</td>\n",
       "      <td>0</td>\n",
       "      <td>0</td>\n",
       "      <td>0</td>\n",
       "      <td>...</td>\n",
       "      <td>0</td>\n",
       "      <td>1</td>\n",
       "      <td>0</td>\n",
       "      <td>0</td>\n",
       "      <td>0</td>\n",
       "      <td>0</td>\n",
       "      <td>0</td>\n",
       "      <td>0</td>\n",
       "      <td>6.0</td>\n",
       "      <td>9.0</td>\n",
       "    </tr>\n",
       "    <tr>\n",
       "      <th>2</th>\n",
       "      <td>38</td>\n",
       "      <td>9</td>\n",
       "      <td>0</td>\n",
       "      <td>0</td>\n",
       "      <td>40</td>\n",
       "      <td>0</td>\n",
       "      <td>0</td>\n",
       "      <td>0</td>\n",
       "      <td>0</td>\n",
       "      <td>1</td>\n",
       "      <td>...</td>\n",
       "      <td>0</td>\n",
       "      <td>0</td>\n",
       "      <td>0</td>\n",
       "      <td>1</td>\n",
       "      <td>0</td>\n",
       "      <td>0</td>\n",
       "      <td>0</td>\n",
       "      <td>0</td>\n",
       "      <td>4.0</td>\n",
       "      <td>11.0</td>\n",
       "    </tr>\n",
       "    <tr>\n",
       "      <th>3</th>\n",
       "      <td>53</td>\n",
       "      <td>7</td>\n",
       "      <td>0</td>\n",
       "      <td>0</td>\n",
       "      <td>40</td>\n",
       "      <td>0</td>\n",
       "      <td>0</td>\n",
       "      <td>0</td>\n",
       "      <td>0</td>\n",
       "      <td>1</td>\n",
       "      <td>...</td>\n",
       "      <td>0</td>\n",
       "      <td>0</td>\n",
       "      <td>0</td>\n",
       "      <td>0</td>\n",
       "      <td>0</td>\n",
       "      <td>0</td>\n",
       "      <td>0</td>\n",
       "      <td>0</td>\n",
       "      <td>4.0</td>\n",
       "      <td>1.0</td>\n",
       "    </tr>\n",
       "    <tr>\n",
       "      <th>4</th>\n",
       "      <td>28</td>\n",
       "      <td>13</td>\n",
       "      <td>0</td>\n",
       "      <td>0</td>\n",
       "      <td>40</td>\n",
       "      <td>0</td>\n",
       "      <td>0</td>\n",
       "      <td>0</td>\n",
       "      <td>0</td>\n",
       "      <td>1</td>\n",
       "      <td>...</td>\n",
       "      <td>0</td>\n",
       "      <td>1</td>\n",
       "      <td>0</td>\n",
       "      <td>0</td>\n",
       "      <td>0</td>\n",
       "      <td>0</td>\n",
       "      <td>0</td>\n",
       "      <td>0</td>\n",
       "      <td>4.0</td>\n",
       "      <td>9.0</td>\n",
       "    </tr>\n",
       "  </tbody>\n",
       "</table>\n",
       "<p>5 rows × 32 columns</p>\n",
       "</div>"
      ],
      "text/plain": [
       "   age  education-num  capital-gain  capital-loss  hours-per-week  \\\n",
       "0   39             13          2174             0              40   \n",
       "1   50             13             0             0              13   \n",
       "2   38              9             0             0              40   \n",
       "3   53              7             0             0              40   \n",
       "4   28             13             0             0              40   \n",
       "\n",
       "   workclass_ ?  workclass_ Federal-gov  workclass_ Local-gov  \\\n",
       "0             0                       0                     0   \n",
       "1             0                       0                     0   \n",
       "2             0                       0                     0   \n",
       "3             0                       0                     0   \n",
       "4             0                       0                     0   \n",
       "\n",
       "   workclass_ Never-worked  workclass_ Private  ...  education_ Assoc-voc  \\\n",
       "0                        0                   0  ...                     0   \n",
       "1                        0                   0  ...                     0   \n",
       "2                        0                   1  ...                     0   \n",
       "3                        0                   1  ...                     0   \n",
       "4                        0                   1  ...                     0   \n",
       "\n",
       "   education_ Bachelors  education_ Doctorate  education_ HS-grad  \\\n",
       "0                     1                     0                   0   \n",
       "1                     1                     0                   0   \n",
       "2                     0                     0                   1   \n",
       "3                     0                     0                   0   \n",
       "4                     1                     0                   0   \n",
       "\n",
       "   education_ Masters  education_ Preschool  education_ Prof-school  \\\n",
       "0                   0                     0                       0   \n",
       "1                   0                     0                       0   \n",
       "2                   0                     0                       0   \n",
       "3                   0                     0                       0   \n",
       "4                   0                     0                       0   \n",
       "\n",
       "   education_ Some-college  workclass  education  \n",
       "0                        0        7.0        9.0  \n",
       "1                        0        6.0        9.0  \n",
       "2                        0        4.0       11.0  \n",
       "3                        0        4.0        1.0  \n",
       "4                        0        4.0        9.0  \n",
       "\n",
       "[5 rows x 32 columns]"
      ]
     },
     "execution_count": 118,
     "metadata": {},
     "output_type": "execute_result"
    }
   ],
   "source": [
    "x.drop(['fnlwgt','salary'], axis=1).head()"
   ]
  },
  {
   "cell_type": "code",
   "execution_count": 119,
   "metadata": {},
   "outputs": [
    {
     "data": {
      "text/plain": [
       "['age',\n",
       " 'fnlwgt',\n",
       " 'education-num',\n",
       " 'capital-gain',\n",
       " 'capital-loss',\n",
       " 'hours-per-week',\n",
       " 'workclass_ ?',\n",
       " 'workclass_ Federal-gov',\n",
       " 'workclass_ Local-gov',\n",
       " 'workclass_ Never-worked',\n",
       " 'workclass_ Private',\n",
       " 'workclass_ Self-emp-inc',\n",
       " 'workclass_ Self-emp-not-inc',\n",
       " 'workclass_ State-gov',\n",
       " 'workclass_ Without-pay',\n",
       " 'education_ 10th',\n",
       " 'education_ 11th',\n",
       " 'education_ 12th',\n",
       " 'education_ 1st-4th',\n",
       " 'education_ 5th-6th',\n",
       " 'education_ 7th-8th',\n",
       " 'education_ 9th',\n",
       " 'education_ Assoc-acdm',\n",
       " 'education_ Assoc-voc',\n",
       " 'education_ Bachelors',\n",
       " 'education_ Doctorate',\n",
       " 'education_ HS-grad',\n",
       " 'education_ Masters',\n",
       " 'education_ Preschool',\n",
       " 'education_ Prof-school',\n",
       " 'education_ Some-college',\n",
       " 'workclass',\n",
       " 'education']"
      ]
     },
     "execution_count": 119,
     "metadata": {},
     "output_type": "execute_result"
    }
   ],
   "source": [
    "list(x.drop('salary', axis=1).columns)"
   ]
  },
  {
   "cell_type": "code",
   "execution_count": 110,
   "metadata": {},
   "outputs": [],
   "source": [
    "dt_predictions = dt_model.predict(xt.drop(['fnlwgt','salary'], axis = 1))"
   ]
  },
  {
   "cell_type": "code",
   "execution_count": 111,
   "metadata": {},
   "outputs": [
    {
     "name": "stdout",
     "output_type": "stream",
     "text": [
      "Accuracy score\n",
      "0.8283836491508246\n",
      "\n",
      "Confusion matrix\n",
      "[[23611  1109]\n",
      " [ 4479  3362]]\n",
      "\n",
      "Classification report\n",
      "              precision    recall  f1-score   support\n",
      "\n",
      "         0.0       0.84      0.96      0.89     24720\n",
      "         1.0       0.75      0.43      0.55      7841\n",
      "\n",
      "    accuracy                           0.83     32561\n",
      "   macro avg       0.80      0.69      0.72     32561\n",
      "weighted avg       0.82      0.83      0.81     32561\n",
      "\n"
     ]
    }
   ],
   "source": [
    "print('Accuracy score')\n",
    "print(accuracy_score(xt.salary, dt_predictions))\n",
    "print('')\n",
    "print('Confusion matrix')\n",
    "print(confusion_matrix(xt.salary, dt_predictions))\n",
    "print('')\n",
    "print('Classification report')\n",
    "print(classification_report(xt.salary, dt_predictions))"
   ]
  },
  {
   "cell_type": "markdown",
   "metadata": {},
   "source": [
    "### Education"
   ]
  },
  {
   "cell_type": "code",
   "execution_count": 130,
   "metadata": {},
   "outputs": [],
   "source": [
    "transform_columns = ['workclass', 'education']\n",
    "\n",
    "x = df.copy()\n",
    "x = pd.concat([x.drop(non_numeric_columns, axis = 1), pd.get_dummies(df[transform_columns])], axis = 1,)\n",
    "x['workclass'] = enc.fit_transform(df[['workclass']])\n",
    "x['education'] = enc.fit_transform(df[['education']])"
   ]
  },
  {
   "cell_type": "code",
   "execution_count": 131,
   "metadata": {},
   "outputs": [],
   "source": [
    "xt = golden.copy()\n",
    "xt = pd.concat([xt.drop(non_numeric_columns, axis = 1), pd.get_dummies(golden[transform_columns])], axis = 1,)\n",
    "xt['workclass'] = enc.fit_transform(golden[['workclass']])\n",
    "xt['education'] = enc.fit_transform(golden[['education']])"
   ]
  },
  {
   "cell_type": "code",
   "execution_count": 132,
   "metadata": {},
   "outputs": [],
   "source": [
    "# x.head(), xt.head()"
   ]
  },
  {
   "cell_type": "code",
   "execution_count": 134,
   "metadata": {},
   "outputs": [
    {
     "data": {
      "text/plain": [
       "DecisionTreeClassifier(criterion='entropy', max_depth=5)"
      ]
     },
     "execution_count": 134,
     "metadata": {},
     "output_type": "execute_result"
    }
   ],
   "source": [
    "# defined dt_model earlier for workclass\n",
    "dt_model.fit(x.drop(['fnlwgt','salary'], axis = 1), x.salary)"
   ]
  },
  {
   "cell_type": "code",
   "execution_count": 135,
   "metadata": {},
   "outputs": [
    {
     "data": {
      "text/plain": [
       "[('age', 0.28819862069953756),\n",
       " ('education-num', 0.2182964460767084),\n",
       " ('capital-gain', 0.36393690919191163),\n",
       " ('capital-loss', 0.10301588353090045),\n",
       " ('hours-per-week', 0.025946002596266143),\n",
       " ('workclass_ ?', 0.0),\n",
       " ('workclass_ Federal-gov', 0.0),\n",
       " ('workclass_ Local-gov', 0.0),\n",
       " ('workclass_ Never-worked', 0.0),\n",
       " ('workclass_ Private', 0.0),\n",
       " ('workclass_ Self-emp-inc', 0.0),\n",
       " ('workclass_ Self-emp-not-inc', 0.000606137904675782),\n",
       " ('workclass_ State-gov', 0.0),\n",
       " ('workclass_ Without-pay', 0.0),\n",
       " ('education_ 10th', 0.0),\n",
       " ('education_ 11th', 0.0),\n",
       " ('education_ 12th', 0.0),\n",
       " ('education_ 1st-4th', 0.0),\n",
       " ('education_ 5th-6th', 0.0),\n",
       " ('education_ 7th-8th', 0.0),\n",
       " ('education_ 9th', 0.0),\n",
       " ('education_ Assoc-acdm', 0.0),\n",
       " ('education_ Assoc-voc', 0.0),\n",
       " ('education_ Bachelors', 0.0),\n",
       " ('education_ Doctorate', 0.0),\n",
       " ('education_ HS-grad', 0.0),\n",
       " ('education_ Masters', 0.0),\n",
       " ('education_ Preschool', 0.0),\n",
       " ('education_ Prof-school', 0.0),\n",
       " ('education_ Some-college', 0.0),\n",
       " ('workclass', 0.0),\n",
       " ('education', 0.0)]"
      ]
     },
     "execution_count": 135,
     "metadata": {},
     "output_type": "execute_result"
    }
   ],
   "source": [
    "list(zip(x.drop(['fnlwgt','salary'], axis = 1).columns, dt_model.feature_importances_))"
   ]
  },
  {
   "cell_type": "code",
   "execution_count": 136,
   "metadata": {},
   "outputs": [],
   "source": [
    "dt_predictions = dt_model.predict(xt.drop(['fnlwgt','salary'], axis = 1))"
   ]
  },
  {
   "cell_type": "code",
   "execution_count": 137,
   "metadata": {},
   "outputs": [
    {
     "name": "stdout",
     "output_type": "stream",
     "text": [
      "Accuracy score\n",
      "0.8283836491508246\n",
      "\n",
      "Confusion matrix\n",
      "[[23610  1110]\n",
      " [ 4478  3363]]\n",
      "\n",
      "Classification report\n",
      "              precision    recall  f1-score   support\n",
      "\n",
      "           0       0.84      0.96      0.89     24720\n",
      "           1       0.75      0.43      0.55      7841\n",
      "\n",
      "    accuracy                           0.83     32561\n",
      "   macro avg       0.80      0.69      0.72     32561\n",
      "weighted avg       0.82      0.83      0.81     32561\n",
      "\n"
     ]
    }
   ],
   "source": [
    "print('Accuracy score')\n",
    "print(accuracy_score(xt.salary, dt_predictions))\n",
    "print('')\n",
    "print('Confusion matrix')\n",
    "print(confusion_matrix(xt.salary, dt_predictions))\n",
    "print('')\n",
    "print('Classification report')\n",
    "print(classification_report(xt.salary, dt_predictions))"
   ]
  },
  {
   "cell_type": "markdown",
   "metadata": {},
   "source": [
    "### Marital status"
   ]
  },
  {
   "cell_type": "code",
   "execution_count": 138,
   "metadata": {},
   "outputs": [],
   "source": [
    "transform_columns = ['workclass', 'education', 'marital-status']\n",
    "\n",
    "x = df.copy()\n",
    "x = pd.concat([x.drop(non_numeric_columns, axis = 1), pd.get_dummies(df[transform_columns])], axis = 1,)\n",
    "x['workclass'] = enc.fit_transform(df[['workclass']])\n",
    "x['education'] = enc.fit_transform(df[['education']])\n",
    "x['marital-status'] = enc.fit_transform(df[['marital-status']])"
   ]
  },
  {
   "cell_type": "code",
   "execution_count": 139,
   "metadata": {},
   "outputs": [],
   "source": [
    "xt = golden.copy()\n",
    "xt = pd.concat([xt.drop(non_numeric_columns, axis = 1), pd.get_dummies(golden[transform_columns])], axis = 1,)\n",
    "xt['workclass'] = enc.fit_transform(golden[['workclass']])\n",
    "xt['education'] = enc.fit_transform(golden[['education']])\n",
    "xt['marital-status'] = enc.fit_transform(golden[['marital-status']])"
   ]
  },
  {
   "cell_type": "code",
   "execution_count": 140,
   "metadata": {},
   "outputs": [
    {
     "data": {
      "text/plain": [
       "DecisionTreeClassifier(criterion='entropy', max_depth=5)"
      ]
     },
     "execution_count": 140,
     "metadata": {},
     "output_type": "execute_result"
    }
   ],
   "source": [
    "# defined dt_model earlier\n",
    "dt_model.fit(x.drop(['fnlwgt','salary'], axis = 1), x.salary)"
   ]
  },
  {
   "cell_type": "code",
   "execution_count": 141,
   "metadata": {},
   "outputs": [
    {
     "data": {
      "text/plain": [
       "[('age', 0.061045829435086095),\n",
       " ('education-num', 0.2100579758031614),\n",
       " ('capital-gain', 0.2184236140042116),\n",
       " ('capital-loss', 0.01955873441240639),\n",
       " ('hours-per-week', 0.025244319282615425),\n",
       " ('workclass_ ?', 0.0),\n",
       " ('workclass_ Federal-gov', 0.0),\n",
       " ('workclass_ Local-gov', 0.0),\n",
       " ('workclass_ Never-worked', 0.0),\n",
       " ('workclass_ Private', 0.0),\n",
       " ('workclass_ Self-emp-inc', 0.0),\n",
       " ('workclass_ Self-emp-not-inc', 0.0002681633640544175),\n",
       " ('workclass_ State-gov', 0.0),\n",
       " ('workclass_ Without-pay', 0.0),\n",
       " ('education_ 10th', 0.0),\n",
       " ('education_ 11th', 0.0),\n",
       " ('education_ 12th', 0.0),\n",
       " ('education_ 1st-4th', 0.0),\n",
       " ('education_ 5th-6th', 0.0),\n",
       " ('education_ 7th-8th', 0.0),\n",
       " ('education_ 9th', 0.0),\n",
       " ('education_ Assoc-acdm', 0.0),\n",
       " ('education_ Assoc-voc', 0.0),\n",
       " ('education_ Bachelors', 0.0),\n",
       " ('education_ Doctorate', 0.0),\n",
       " ('education_ HS-grad', 0.0),\n",
       " ('education_ Masters', 0.0),\n",
       " ('education_ Preschool', 0.0),\n",
       " ('education_ Prof-school', 0.0),\n",
       " ('education_ Some-college', 0.0),\n",
       " ('marital-status_ Divorced', 0.0),\n",
       " ('marital-status_ Married-AF-spouse', 0.0),\n",
       " ('marital-status_ Married-civ-spouse', 0.46540136369846463),\n",
       " ('marital-status_ Married-spouse-absent', 0.0),\n",
       " ('marital-status_ Never-married', 0.0),\n",
       " ('marital-status_ Separated', 0.0),\n",
       " ('marital-status_ Widowed', 0.0),\n",
       " ('workclass', 0.0),\n",
       " ('education', 0.0),\n",
       " ('marital-status', 0.0)]"
      ]
     },
     "execution_count": 141,
     "metadata": {},
     "output_type": "execute_result"
    }
   ],
   "source": [
    "list(zip(x.drop(['fnlwgt','salary'], axis = 1).columns, dt_model.feature_importances_))"
   ]
  },
  {
   "cell_type": "code",
   "execution_count": 142,
   "metadata": {},
   "outputs": [],
   "source": [
    "dt_predictions = dt_model.predict(xt.drop(['fnlwgt','salary'], axis = 1))"
   ]
  },
  {
   "cell_type": "code",
   "execution_count": 143,
   "metadata": {},
   "outputs": [
    {
     "name": "stdout",
     "output_type": "stream",
     "text": [
      "Accuracy score\n",
      "0.846595620527625\n",
      "\n",
      "Confusion matrix\n",
      "[[23646  1074]\n",
      " [ 3921  3920]]\n",
      "\n",
      "Classification report\n",
      "              precision    recall  f1-score   support\n",
      "\n",
      "           0       0.86      0.96      0.90     24720\n",
      "           1       0.78      0.50      0.61      7841\n",
      "\n",
      "    accuracy                           0.85     32561\n",
      "   macro avg       0.82      0.73      0.76     32561\n",
      "weighted avg       0.84      0.85      0.83     32561\n",
      "\n"
     ]
    }
   ],
   "source": [
    "print('Accuracy score')\n",
    "print(accuracy_score(xt.salary, dt_predictions))\n",
    "print('')\n",
    "print('Confusion matrix')\n",
    "print(confusion_matrix(xt.salary, dt_predictions))\n",
    "print('')\n",
    "print('Classification report')\n",
    "print(classification_report(xt.salary, dt_predictions)) # first time seeing a change in precision"
   ]
  },
  {
   "cell_type": "markdown",
   "metadata": {},
   "source": [
    "### occupation"
   ]
  },
  {
   "cell_type": "code",
   "execution_count": 144,
   "metadata": {},
   "outputs": [],
   "source": [
    "transform_columns = ['workclass', 'education', 'marital-status', 'occupation']\n",
    "\n",
    "x = df.copy()\n",
    "x = pd.concat([x.drop(non_numeric_columns, axis = 1), pd.get_dummies(df[transform_columns])], axis = 1,)\n",
    "x['workclass'] = enc.fit_transform(df[['workclass']])\n",
    "x['education'] = enc.fit_transform(df[['education']])\n",
    "x['marital-status'] = enc.fit_transform(df[['marital-status']])\n",
    "x['occupation'] = enc.fit_transform(df[['occupation']])"
   ]
  },
  {
   "cell_type": "code",
   "execution_count": 145,
   "metadata": {},
   "outputs": [],
   "source": [
    "xt = golden.copy()\n",
    "xt = pd.concat([xt.drop(non_numeric_columns, axis = 1), pd.get_dummies(golden[transform_columns])], axis = 1,)\n",
    "xt['workclass'] = enc.fit_transform(golden[['workclass']])\n",
    "xt['education'] = enc.fit_transform(golden[['education']])\n",
    "xt['marital-status'] = enc.fit_transform(golden[['marital-status']])\n",
    "xt['occupation'] = enc.fit_transform(golden[['occupation']])"
   ]
  },
  {
   "cell_type": "code",
   "execution_count": 146,
   "metadata": {},
   "outputs": [
    {
     "data": {
      "text/plain": [
       "DecisionTreeClassifier(criterion='entropy', max_depth=5)"
      ]
     },
     "execution_count": 146,
     "metadata": {},
     "output_type": "execute_result"
    }
   ],
   "source": [
    "# defined dt_model earlier\n",
    "dt_model.fit(x.drop(['fnlwgt','salary'], axis = 1), x.salary)"
   ]
  },
  {
   "cell_type": "code",
   "execution_count": 147,
   "metadata": {},
   "outputs": [
    {
     "data": {
      "text/plain": [
       "[('age', 0.061045626213560425),\n",
       " ('education-num', 0.2100572765202994),\n",
       " ('capital-gain', 0.21842288687214556),\n",
       " ('capital-loss', 0.019558669301392512),\n",
       " ('hours-per-week', 0.02524423524429329),\n",
       " ('workclass_ ?', 0.0),\n",
       " ('workclass_ Federal-gov', 0.0),\n",
       " ('workclass_ Local-gov', 0.0),\n",
       " ('workclass_ Never-worked', 0.0),\n",
       " ('workclass_ Private', 0.0),\n",
       " ('workclass_ Self-emp-inc', 0.0),\n",
       " ('workclass_ Self-emp-not-inc', 0.0),\n",
       " ('workclass_ State-gov', 0.0),\n",
       " ('workclass_ Without-pay', 0.0),\n",
       " ('education_ 10th', 0.0),\n",
       " ('education_ 11th', 0.0),\n",
       " ('education_ 12th', 0.0),\n",
       " ('education_ 1st-4th', 0.0),\n",
       " ('education_ 5th-6th', 0.0),\n",
       " ('education_ 7th-8th', 0.0),\n",
       " ('education_ 9th', 0.0),\n",
       " ('education_ Assoc-acdm', 0.0),\n",
       " ('education_ Assoc-voc', 0.0),\n",
       " ('education_ Bachelors', 0.0),\n",
       " ('education_ Doctorate', 0.0),\n",
       " ('education_ HS-grad', 0.0),\n",
       " ('education_ Masters', 0.0),\n",
       " ('education_ Preschool', 0.0),\n",
       " ('education_ Prof-school', 0.0),\n",
       " ('education_ Some-college', 0.0),\n",
       " ('marital-status_ Divorced', 0.0),\n",
       " ('marital-status_ Married-AF-spouse', 0.0),\n",
       " ('marital-status_ Married-civ-spouse', 0.46539981437763384),\n",
       " ('marital-status_ Married-spouse-absent', 0.0),\n",
       " ('marital-status_ Never-married', 0.0),\n",
       " ('marital-status_ Separated', 0.0),\n",
       " ('marital-status_ Widowed', 0.0),\n",
       " ('occupation_ ?', 0.0),\n",
       " ('occupation_ Adm-clerical', 0.0),\n",
       " ('occupation_ Armed-Forces', 0.0),\n",
       " ('occupation_ Craft-repair', 0.0),\n",
       " ('occupation_ Exec-managerial', 0.0),\n",
       " ('occupation_ Farming-fishing', 0.0002714914706749448),\n",
       " ('occupation_ Handlers-cleaners', 0.0),\n",
       " ('occupation_ Machine-op-inspct', 0.0),\n",
       " ('occupation_ Other-service', 0.0),\n",
       " ('occupation_ Priv-house-serv', 0.0),\n",
       " ('occupation_ Prof-specialty', 0.0),\n",
       " ('occupation_ Protective-serv', 0.0),\n",
       " ('occupation_ Sales', 0.0),\n",
       " ('occupation_ Tech-support', 0.0),\n",
       " ('occupation_ Transport-moving', 0.0),\n",
       " ('workclass', 0.0),\n",
       " ('education', 0.0),\n",
       " ('marital-status', 0.0),\n",
       " ('occupation', 0.0)]"
      ]
     },
     "execution_count": 147,
     "metadata": {},
     "output_type": "execute_result"
    }
   ],
   "source": [
    "list(zip(x.drop(['fnlwgt','salary'], axis = 1).columns, dt_model.feature_importances_))"
   ]
  },
  {
   "cell_type": "code",
   "execution_count": 148,
   "metadata": {},
   "outputs": [],
   "source": [
    "dt_predictions = dt_model.predict(xt.drop(['fnlwgt','salary'], axis = 1))"
   ]
  },
  {
   "cell_type": "code",
   "execution_count": 149,
   "metadata": {},
   "outputs": [
    {
     "name": "stdout",
     "output_type": "stream",
     "text": [
      "Accuracy score\n",
      "0.846595620527625\n",
      "\n",
      "Confusion matrix\n",
      "[[23647  1073]\n",
      " [ 3922  3919]]\n",
      "\n",
      "Classification report\n",
      "              precision    recall  f1-score   support\n",
      "\n",
      "           0       0.86      0.96      0.90     24720\n",
      "           1       0.79      0.50      0.61      7841\n",
      "\n",
      "    accuracy                           0.85     32561\n",
      "   macro avg       0.82      0.73      0.76     32561\n",
      "weighted avg       0.84      0.85      0.83     32561\n",
      "\n"
     ]
    }
   ],
   "source": [
    "print('Accuracy score')\n",
    "print(accuracy_score(xt.salary, dt_predictions))\n",
    "print('')\n",
    "print('Confusion matrix')\n",
    "print(confusion_matrix(xt.salary, dt_predictions))\n",
    "print('')\n",
    "print('Classification report')\n",
    "print(classification_report(xt.salary, dt_predictions))"
   ]
  },
  {
   "cell_type": "markdown",
   "metadata": {},
   "source": [
    "### relationship"
   ]
  },
  {
   "cell_type": "code",
   "execution_count": 153,
   "metadata": {},
   "outputs": [],
   "source": [
    "transform_columns = ['workclass', 'education', 'marital-status', 'occupation', 'relationship']\n",
    "\n",
    "x = df.copy()\n",
    "x = pd.concat([x.drop(non_numeric_columns, axis = 1), pd.get_dummies(df[transform_columns])], axis = 1,)\n",
    "x['workclass'] = enc.fit_transform(df[['workclass']])\n",
    "x['education'] = enc.fit_transform(df[['education']])\n",
    "x['marital-status'] = enc.fit_transform(df[['marital-status']])\n",
    "x['occupation'] = enc.fit_transform(df[['occupation']])\n",
    "x['relationship'] = enc.fit_transform(df[['relationship']])"
   ]
  },
  {
   "cell_type": "code",
   "execution_count": 154,
   "metadata": {},
   "outputs": [],
   "source": [
    "xt = golden.copy()\n",
    "xt = pd.concat([xt.drop(non_numeric_columns, axis = 1), pd.get_dummies(golden[transform_columns])], axis = 1,)\n",
    "xt['workclass'] = enc.fit_transform(golden[['workclass']])\n",
    "xt['education'] = enc.fit_transform(golden[['education']])\n",
    "xt['marital-status'] = enc.fit_transform(golden[['marital-status']])\n",
    "xt['occupation'] = enc.fit_transform(golden[['occupation']])\n",
    "xt['relationship'] = enc.fit_transform(golden[['relationship']])"
   ]
  },
  {
   "cell_type": "code",
   "execution_count": 155,
   "metadata": {},
   "outputs": [
    {
     "data": {
      "text/plain": [
       "DecisionTreeClassifier(criterion='entropy', max_depth=5)"
      ]
     },
     "execution_count": 155,
     "metadata": {},
     "output_type": "execute_result"
    }
   ],
   "source": [
    "# defined dt_model earlier\n",
    "dt_model.fit(x.drop(['fnlwgt','salary'], axis = 1), x.salary)"
   ]
  },
  {
   "cell_type": "code",
   "execution_count": 156,
   "metadata": {},
   "outputs": [
    {
     "data": {
      "text/plain": [
       "[('age', 0.061045626213560425),\n",
       " ('education-num', 0.20909007382190373),\n",
       " ('capital-gain', 0.21842288687214556),\n",
       " ('capital-loss', 0.019558669301392512),\n",
       " ('hours-per-week', 0.02524423524429329),\n",
       " ('workclass_ ?', 0.0),\n",
       " ('workclass_ Federal-gov', 0.0),\n",
       " ('workclass_ Local-gov', 0.0),\n",
       " ('workclass_ Never-worked', 0.0),\n",
       " ('workclass_ Private', 0.0),\n",
       " ('workclass_ Self-emp-inc', 0.0),\n",
       " ('workclass_ Self-emp-not-inc', 0.0),\n",
       " ('workclass_ State-gov', 0.0),\n",
       " ('workclass_ Without-pay', 0.0),\n",
       " ('education_ 10th', 0.0),\n",
       " ('education_ 11th', 0.0),\n",
       " ('education_ 12th', 0.0),\n",
       " ('education_ 1st-4th', 0.0),\n",
       " ('education_ 5th-6th', 0.0),\n",
       " ('education_ 7th-8th', 0.0),\n",
       " ('education_ 9th', 0.0),\n",
       " ('education_ Assoc-acdm', 0.0),\n",
       " ('education_ Assoc-voc', 0.0),\n",
       " ('education_ Bachelors', 0.0),\n",
       " ('education_ Doctorate', 0.0),\n",
       " ('education_ HS-grad', 0.0),\n",
       " ('education_ Masters', 0.0),\n",
       " ('education_ Preschool', 0.000967202698395698),\n",
       " ('education_ Prof-school', 0.0),\n",
       " ('education_ Some-college', 0.0),\n",
       " ('marital-status_ Divorced', 0.0),\n",
       " ('marital-status_ Married-AF-spouse', 0.0),\n",
       " ('marital-status_ Married-civ-spouse', 0.46539981437763384),\n",
       " ('marital-status_ Married-spouse-absent', 0.0),\n",
       " ('marital-status_ Never-married', 0.0),\n",
       " ('marital-status_ Separated', 0.0),\n",
       " ('marital-status_ Widowed', 0.0),\n",
       " ('occupation_ ?', 0.0),\n",
       " ('occupation_ Adm-clerical', 0.0),\n",
       " ('occupation_ Armed-Forces', 0.0),\n",
       " ('occupation_ Craft-repair', 0.0),\n",
       " ('occupation_ Exec-managerial', 0.0),\n",
       " ('occupation_ Farming-fishing', 0.0002714914706749448),\n",
       " ('occupation_ Handlers-cleaners', 0.0),\n",
       " ('occupation_ Machine-op-inspct', 0.0),\n",
       " ('occupation_ Other-service', 0.0),\n",
       " ('occupation_ Priv-house-serv', 0.0),\n",
       " ('occupation_ Prof-specialty', 0.0),\n",
       " ('occupation_ Protective-serv', 0.0),\n",
       " ('occupation_ Sales', 0.0),\n",
       " ('occupation_ Tech-support', 0.0),\n",
       " ('occupation_ Transport-moving', 0.0),\n",
       " ('relationship_ Husband', 0.0),\n",
       " ('relationship_ Not-in-family', 0.0),\n",
       " ('relationship_ Other-relative', 0.0),\n",
       " ('relationship_ Own-child', 0.0),\n",
       " ('relationship_ Unmarried', 0.0),\n",
       " ('relationship_ Wife', 0.0),\n",
       " ('workclass', 0.0),\n",
       " ('education', 0.0),\n",
       " ('marital-status', 0.0),\n",
       " ('occupation', 0.0),\n",
       " ('relationship', 0.0)]"
      ]
     },
     "execution_count": 156,
     "metadata": {},
     "output_type": "execute_result"
    }
   ],
   "source": [
    "list(zip(x.drop(['fnlwgt','salary'], axis = 1).columns, dt_model.feature_importances_))"
   ]
  },
  {
   "cell_type": "code",
   "execution_count": 157,
   "metadata": {},
   "outputs": [],
   "source": [
    "dt_predictions = dt_model.predict(xt.drop(['fnlwgt','salary'], axis = 1))"
   ]
  },
  {
   "cell_type": "code",
   "execution_count": 158,
   "metadata": {},
   "outputs": [
    {
     "name": "stdout",
     "output_type": "stream",
     "text": [
      "Accuracy score\n",
      "0.846595620527625\n",
      "\n",
      "Confusion matrix\n",
      "[[23647  1073]\n",
      " [ 3922  3919]]\n",
      "\n",
      "Classification report\n",
      "              precision    recall  f1-score   support\n",
      "\n",
      "           0       0.86      0.96      0.90     24720\n",
      "           1       0.79      0.50      0.61      7841\n",
      "\n",
      "    accuracy                           0.85     32561\n",
      "   macro avg       0.82      0.73      0.76     32561\n",
      "weighted avg       0.84      0.85      0.83     32561\n",
      "\n"
     ]
    }
   ],
   "source": [
    "print('Accuracy score')\n",
    "print(accuracy_score(xt.salary, dt_predictions))\n",
    "print('')\n",
    "print('Confusion matrix')\n",
    "print(confusion_matrix(xt.salary, dt_predictions))\n",
    "print('')\n",
    "print('Classification report')\n",
    "print(classification_report(xt.salary, dt_predictions))"
   ]
  },
  {
   "cell_type": "markdown",
   "metadata": {},
   "source": [
    "### race"
   ]
  },
  {
   "cell_type": "code",
   "execution_count": 161,
   "metadata": {},
   "outputs": [],
   "source": [
    "transform_columns = ['workclass', 'education', 'marital-status', 'occupation', 'relationship', 'race']\n",
    "\n",
    "x = df.copy()\n",
    "x = pd.concat([x.drop(non_numeric_columns, axis = 1), pd.get_dummies(df[transform_columns])], axis = 1,)\n",
    "x['workclass'] = enc.fit_transform(df[['workclass']])\n",
    "x['education'] = enc.fit_transform(df[['education']])\n",
    "x['marital-status'] = enc.fit_transform(df[['marital-status']])\n",
    "x['occupation'] = enc.fit_transform(df[['occupation']])\n",
    "x['relationship'] = enc.fit_transform(df[['relationship']])\n",
    "x['race'] = enc.fit_transform(df[['race']])"
   ]
  },
  {
   "cell_type": "code",
   "execution_count": 162,
   "metadata": {},
   "outputs": [],
   "source": [
    "xt = golden.copy()\n",
    "xt = pd.concat([xt.drop(non_numeric_columns, axis = 1), pd.get_dummies(golden[transform_columns])], axis = 1,)\n",
    "xt['workclass'] = enc.fit_transform(golden[['workclass']])\n",
    "xt['education'] = enc.fit_transform(golden[['education']])\n",
    "xt['marital-status'] = enc.fit_transform(golden[['marital-status']])\n",
    "xt['occupation'] = enc.fit_transform(golden[['occupation']])\n",
    "xt['relationship'] = enc.fit_transform(golden[['relationship']])\n",
    "xt['race'] = enc.fit_transform(golden[['race']])"
   ]
  },
  {
   "cell_type": "code",
   "execution_count": 163,
   "metadata": {},
   "outputs": [
    {
     "data": {
      "text/plain": [
       "DecisionTreeClassifier(criterion='entropy', max_depth=5)"
      ]
     },
     "execution_count": 163,
     "metadata": {},
     "output_type": "execute_result"
    }
   ],
   "source": [
    "# defined dt_model earlier\n",
    "dt_model.fit(x.drop(['fnlwgt','salary'], axis = 1), x.salary)"
   ]
  },
  {
   "cell_type": "code",
   "execution_count": 164,
   "metadata": {},
   "outputs": [
    {
     "data": {
      "text/plain": [
       "[('age', 0.061045626213560425),\n",
       " ('education-num', 0.20909007382190373),\n",
       " ('capital-gain', 0.21842288687214556),\n",
       " ('capital-loss', 0.019558669301392512),\n",
       " ('hours-per-week', 0.02524423524429329),\n",
       " ('workclass_ ?', 0.0),\n",
       " ('workclass_ Federal-gov', 0.0),\n",
       " ('workclass_ Local-gov', 0.0),\n",
       " ('workclass_ Never-worked', 0.0),\n",
       " ('workclass_ Private', 0.0),\n",
       " ('workclass_ Self-emp-inc', 0.0),\n",
       " ('workclass_ Self-emp-not-inc', 0.0),\n",
       " ('workclass_ State-gov', 0.0),\n",
       " ('workclass_ Without-pay', 0.0),\n",
       " ('education_ 10th', 0.0),\n",
       " ('education_ 11th', 0.0),\n",
       " ('education_ 12th', 0.0),\n",
       " ('education_ 1st-4th', 0.0),\n",
       " ('education_ 5th-6th', 0.0),\n",
       " ('education_ 7th-8th', 0.0),\n",
       " ('education_ 9th', 0.0),\n",
       " ('education_ Assoc-acdm', 0.0),\n",
       " ('education_ Assoc-voc', 0.0),\n",
       " ('education_ Bachelors', 0.0),\n",
       " ('education_ Doctorate', 0.0),\n",
       " ('education_ HS-grad', 0.0),\n",
       " ('education_ Masters', 0.0),\n",
       " ('education_ Preschool', 0.000967202698395698),\n",
       " ('education_ Prof-school', 0.0),\n",
       " ('education_ Some-college', 0.0),\n",
       " ('marital-status_ Divorced', 0.0),\n",
       " ('marital-status_ Married-AF-spouse', 0.0),\n",
       " ('marital-status_ Married-civ-spouse', 0.46539981437763384),\n",
       " ('marital-status_ Married-spouse-absent', 0.0),\n",
       " ('marital-status_ Never-married', 0.0),\n",
       " ('marital-status_ Separated', 0.0),\n",
       " ('marital-status_ Widowed', 0.0),\n",
       " ('occupation_ ?', 0.0),\n",
       " ('occupation_ Adm-clerical', 0.0),\n",
       " ('occupation_ Armed-Forces', 0.0),\n",
       " ('occupation_ Craft-repair', 0.0),\n",
       " ('occupation_ Exec-managerial', 0.0),\n",
       " ('occupation_ Farming-fishing', 0.0002714914706749448),\n",
       " ('occupation_ Handlers-cleaners', 0.0),\n",
       " ('occupation_ Machine-op-inspct', 0.0),\n",
       " ('occupation_ Other-service', 0.0),\n",
       " ('occupation_ Priv-house-serv', 0.0),\n",
       " ('occupation_ Prof-specialty', 0.0),\n",
       " ('occupation_ Protective-serv', 0.0),\n",
       " ('occupation_ Sales', 0.0),\n",
       " ('occupation_ Tech-support', 0.0),\n",
       " ('occupation_ Transport-moving', 0.0),\n",
       " ('relationship_ Husband', 0.0),\n",
       " ('relationship_ Not-in-family', 0.0),\n",
       " ('relationship_ Other-relative', 0.0),\n",
       " ('relationship_ Own-child', 0.0),\n",
       " ('relationship_ Unmarried', 0.0),\n",
       " ('relationship_ Wife', 0.0),\n",
       " ('race_ Amer-Indian-Eskimo', 0.0),\n",
       " ('race_ Asian-Pac-Islander', 0.0),\n",
       " ('race_ Black', 0.0),\n",
       " ('race_ Other', 0.0),\n",
       " ('race_ White', 0.0),\n",
       " ('workclass', 0.0),\n",
       " ('education', 0.0),\n",
       " ('marital-status', 0.0),\n",
       " ('occupation', 0.0),\n",
       " ('relationship', 0.0),\n",
       " ('race', 0.0)]"
      ]
     },
     "execution_count": 164,
     "metadata": {},
     "output_type": "execute_result"
    }
   ],
   "source": [
    "list(zip(x.drop(['fnlwgt','salary'], axis = 1).columns, dt_model.feature_importances_))"
   ]
  },
  {
   "cell_type": "code",
   "execution_count": 165,
   "metadata": {},
   "outputs": [],
   "source": [
    "dt_predictions = dt_model.predict(xt.drop(['fnlwgt','salary'], axis = 1))"
   ]
  },
  {
   "cell_type": "code",
   "execution_count": 166,
   "metadata": {},
   "outputs": [
    {
     "name": "stdout",
     "output_type": "stream",
     "text": [
      "Accuracy score\n",
      "0.846595620527625\n",
      "\n",
      "Confusion matrix\n",
      "[[23647  1073]\n",
      " [ 3922  3919]]\n",
      "\n",
      "Classification report\n",
      "              precision    recall  f1-score   support\n",
      "\n",
      "           0       0.86      0.96      0.90     24720\n",
      "           1       0.79      0.50      0.61      7841\n",
      "\n",
      "    accuracy                           0.85     32561\n",
      "   macro avg       0.82      0.73      0.76     32561\n",
      "weighted avg       0.84      0.85      0.83     32561\n",
      "\n"
     ]
    }
   ],
   "source": [
    "print('Accuracy score')\n",
    "print(accuracy_score(xt.salary, dt_predictions))\n",
    "print('')\n",
    "print('Confusion matrix')\n",
    "print(confusion_matrix(xt.salary, dt_predictions))\n",
    "print('')\n",
    "print('Classification report')\n",
    "print(classification_report(xt.salary, dt_predictions))"
   ]
  },
  {
   "cell_type": "markdown",
   "metadata": {},
   "source": [
    "### sex"
   ]
  },
  {
   "cell_type": "code",
   "execution_count": 169,
   "metadata": {},
   "outputs": [],
   "source": [
    "transform_columns = ['workclass', 'education', 'marital-status', 'occupation', 'relationship', 'race', 'sex']\n",
    "\n",
    "x = df.copy()\n",
    "x = pd.concat([x.drop(non_numeric_columns, axis = 1), pd.get_dummies(df[transform_columns])], axis = 1,)\n",
    "x['workclass'] = enc.fit_transform(df[['workclass']])\n",
    "x['education'] = enc.fit_transform(df[['education']])\n",
    "x['marital-status'] = enc.fit_transform(df[['marital-status']])\n",
    "x['occupation'] = enc.fit_transform(df[['occupation']])\n",
    "x['relationship'] = enc.fit_transform(df[['relationship']])\n",
    "x['race'] = enc.fit_transform(df[['race']])\n",
    "x['sex'] = enc.fit_transform(df[['sex']])"
   ]
  },
  {
   "cell_type": "code",
   "execution_count": 170,
   "metadata": {},
   "outputs": [],
   "source": [
    "xt = golden.copy()\n",
    "xt = pd.concat([xt.drop(non_numeric_columns, axis = 1), pd.get_dummies(golden[transform_columns])], axis = 1,)\n",
    "xt['workclass'] = enc.fit_transform(golden[['workclass']])\n",
    "xt['education'] = enc.fit_transform(golden[['education']])\n",
    "xt['marital-status'] = enc.fit_transform(golden[['marital-status']])\n",
    "xt['occupation'] = enc.fit_transform(golden[['occupation']])\n",
    "xt['relationship'] = enc.fit_transform(golden[['relationship']])\n",
    "xt['race'] = enc.fit_transform(golden[['race']])\n",
    "xt['sex'] = enc.fit_transform(golden[['sex']])"
   ]
  },
  {
   "cell_type": "code",
   "execution_count": 171,
   "metadata": {},
   "outputs": [
    {
     "data": {
      "text/plain": [
       "DecisionTreeClassifier(criterion='entropy', max_depth=5)"
      ]
     },
     "execution_count": 171,
     "metadata": {},
     "output_type": "execute_result"
    }
   ],
   "source": [
    "# defined dt_model earlier\n",
    "dt_model.fit(x.drop(['fnlwgt','salary'], axis = 1), x.salary)"
   ]
  },
  {
   "cell_type": "code",
   "execution_count": 172,
   "metadata": {},
   "outputs": [
    {
     "data": {
      "text/plain": [
       "[('age', 0.061045626213560425),\n",
       " ('education-num', 0.2100572765202994),\n",
       " ('capital-gain', 0.21842288687214556),\n",
       " ('capital-loss', 0.019558669301392512),\n",
       " ('hours-per-week', 0.02524423524429329),\n",
       " ('workclass_ ?', 0.0),\n",
       " ('workclass_ Federal-gov', 0.0),\n",
       " ('workclass_ Local-gov', 0.0),\n",
       " ('workclass_ Never-worked', 0.0),\n",
       " ('workclass_ Private', 0.0),\n",
       " ('workclass_ Self-emp-inc', 0.0),\n",
       " ('workclass_ Self-emp-not-inc', 0.0),\n",
       " ('workclass_ State-gov', 0.0),\n",
       " ('workclass_ Without-pay', 0.0),\n",
       " ('education_ 10th', 0.0),\n",
       " ('education_ 11th', 0.0),\n",
       " ('education_ 12th', 0.0),\n",
       " ('education_ 1st-4th', 0.0),\n",
       " ('education_ 5th-6th', 0.0),\n",
       " ('education_ 7th-8th', 0.0),\n",
       " ('education_ 9th', 0.0),\n",
       " ('education_ Assoc-acdm', 0.0),\n",
       " ('education_ Assoc-voc', 0.0),\n",
       " ('education_ Bachelors', 0.0),\n",
       " ('education_ Doctorate', 0.0),\n",
       " ('education_ HS-grad', 0.0),\n",
       " ('education_ Masters', 0.0),\n",
       " ('education_ Preschool', 0.0),\n",
       " ('education_ Prof-school', 0.0),\n",
       " ('education_ Some-college', 0.0),\n",
       " ('marital-status_ Divorced', 0.0),\n",
       " ('marital-status_ Married-AF-spouse', 0.0),\n",
       " ('marital-status_ Married-civ-spouse', 0.46539981437763384),\n",
       " ('marital-status_ Married-spouse-absent', 0.0),\n",
       " ('marital-status_ Never-married', 0.0),\n",
       " ('marital-status_ Separated', 0.0),\n",
       " ('marital-status_ Widowed', 0.0),\n",
       " ('occupation_ ?', 0.0),\n",
       " ('occupation_ Adm-clerical', 0.0),\n",
       " ('occupation_ Armed-Forces', 0.0),\n",
       " ('occupation_ Craft-repair', 0.0),\n",
       " ('occupation_ Exec-managerial', 0.0),\n",
       " ('occupation_ Farming-fishing', 0.0002714914706749448),\n",
       " ('occupation_ Handlers-cleaners', 0.0),\n",
       " ('occupation_ Machine-op-inspct', 0.0),\n",
       " ('occupation_ Other-service', 0.0),\n",
       " ('occupation_ Priv-house-serv', 0.0),\n",
       " ('occupation_ Prof-specialty', 0.0),\n",
       " ('occupation_ Protective-serv', 0.0),\n",
       " ('occupation_ Sales', 0.0),\n",
       " ('occupation_ Tech-support', 0.0),\n",
       " ('occupation_ Transport-moving', 0.0),\n",
       " ('relationship_ Husband', 0.0),\n",
       " ('relationship_ Not-in-family', 0.0),\n",
       " ('relationship_ Other-relative', 0.0),\n",
       " ('relationship_ Own-child', 0.0),\n",
       " ('relationship_ Unmarried', 0.0),\n",
       " ('relationship_ Wife', 0.0),\n",
       " ('race_ Amer-Indian-Eskimo', 0.0),\n",
       " ('race_ Asian-Pac-Islander', 0.0),\n",
       " ('race_ Black', 0.0),\n",
       " ('race_ Other', 0.0),\n",
       " ('race_ White', 0.0),\n",
       " ('sex_ Female', 0.0),\n",
       " ('sex_ Male', 0.0),\n",
       " ('workclass', 0.0),\n",
       " ('education', 0.0),\n",
       " ('marital-status', 0.0),\n",
       " ('occupation', 0.0),\n",
       " ('relationship', 0.0),\n",
       " ('race', 0.0),\n",
       " ('sex', 0.0)]"
      ]
     },
     "execution_count": 172,
     "metadata": {},
     "output_type": "execute_result"
    }
   ],
   "source": [
    "list(zip(x.drop(['fnlwgt','salary'], axis = 1).columns, dt_model.feature_importances_))"
   ]
  },
  {
   "cell_type": "code",
   "execution_count": 173,
   "metadata": {},
   "outputs": [],
   "source": [
    "dt_predictions = dt_model.predict(xt.drop(['fnlwgt','salary'], axis = 1))"
   ]
  },
  {
   "cell_type": "code",
   "execution_count": 174,
   "metadata": {},
   "outputs": [
    {
     "name": "stdout",
     "output_type": "stream",
     "text": [
      "Accuracy score\n",
      "0.846595620527625\n",
      "\n",
      "Confusion matrix\n",
      "[[23647  1073]\n",
      " [ 3922  3919]]\n",
      "\n",
      "Classification report\n",
      "              precision    recall  f1-score   support\n",
      "\n",
      "           0       0.86      0.96      0.90     24720\n",
      "           1       0.79      0.50      0.61      7841\n",
      "\n",
      "    accuracy                           0.85     32561\n",
      "   macro avg       0.82      0.73      0.76     32561\n",
      "weighted avg       0.84      0.85      0.83     32561\n",
      "\n"
     ]
    }
   ],
   "source": [
    "print('Accuracy score')\n",
    "print(accuracy_score(xt.salary, dt_predictions))\n",
    "print('')\n",
    "print('Confusion matrix')\n",
    "print(confusion_matrix(xt.salary, dt_predictions))\n",
    "print('')\n",
    "print('Classification report')\n",
    "print(classification_report(xt.salary, dt_predictions))"
   ]
  },
  {
   "cell_type": "markdown",
   "metadata": {},
   "source": [
    "### native-country"
   ]
  },
  {
   "cell_type": "code",
   "execution_count": 177,
   "metadata": {},
   "outputs": [],
   "source": [
    "transform_columns = ['workclass', 'education', 'marital-status', 'occupation', 'relationship', 'race', 'sex', 'native-country']\n",
    "\n",
    "x = df.copy()\n",
    "x = pd.concat([x.drop(non_numeric_columns, axis = 1), pd.get_dummies(df[transform_columns])], axis = 1,)\n",
    "x['workclass'] = enc.fit_transform(df[['workclass']])\n",
    "x['education'] = enc.fit_transform(df[['education']])\n",
    "x['marital-status'] = enc.fit_transform(df[['marital-status']])\n",
    "x['occupation'] = enc.fit_transform(df[['occupation']])\n",
    "x['relationship'] = enc.fit_transform(df[['relationship']])\n",
    "x['race'] = enc.fit_transform(df[['race']])\n",
    "x['sex'] = enc.fit_transform(df[['sex']])\n",
    "x['native-country'] = enc.fit_transform(df[['native-country']])"
   ]
  },
  {
   "cell_type": "code",
   "execution_count": 178,
   "metadata": {},
   "outputs": [],
   "source": [
    "xt = golden.copy()\n",
    "xt = pd.concat([xt.drop(non_numeric_columns, axis = 1), pd.get_dummies(golden[transform_columns])], axis = 1,)\n",
    "xt['workclass'] = enc.fit_transform(golden[['workclass']])\n",
    "xt['education'] = enc.fit_transform(golden[['education']])\n",
    "xt['marital-status'] = enc.fit_transform(golden[['marital-status']])\n",
    "xt['occupation'] = enc.fit_transform(golden[['occupation']])\n",
    "xt['relationship'] = enc.fit_transform(golden[['relationship']])\n",
    "xt['race'] = enc.fit_transform(golden[['race']])\n",
    "xt['sex'] = enc.fit_transform(golden[['sex']])\n",
    "xt['native-country'] = enc.fit_transform(golden[['native-country']])"
   ]
  },
  {
   "cell_type": "code",
   "execution_count": 179,
   "metadata": {},
   "outputs": [
    {
     "data": {
      "text/plain": [
       "DecisionTreeClassifier(criterion='entropy', max_depth=5)"
      ]
     },
     "execution_count": 179,
     "metadata": {},
     "output_type": "execute_result"
    }
   ],
   "source": [
    "# defined dt_model earlier\n",
    "dt_model.fit(x.drop(['fnlwgt','salary'], axis = 1), x.salary)"
   ]
  },
  {
   "cell_type": "code",
   "execution_count": 180,
   "metadata": {},
   "outputs": [
    {
     "data": {
      "text/plain": [
       "[('age', 0.061045626213560425),\n",
       " ('education-num', 0.2100572765202994),\n",
       " ('capital-gain', 0.21842288687214556),\n",
       " ('capital-loss', 0.019558669301392512),\n",
       " ('hours-per-week', 0.02524423524429329),\n",
       " ('workclass_ ?', 0.0),\n",
       " ('workclass_ Federal-gov', 0.0),\n",
       " ('workclass_ Local-gov', 0.0),\n",
       " ('workclass_ Never-worked', 0.0),\n",
       " ('workclass_ Private', 0.0),\n",
       " ('workclass_ Self-emp-inc', 0.0),\n",
       " ('workclass_ Self-emp-not-inc', 0.0),\n",
       " ('workclass_ State-gov', 0.0),\n",
       " ('workclass_ Without-pay', 0.0),\n",
       " ('education_ 10th', 0.0),\n",
       " ('education_ 11th', 0.0),\n",
       " ('education_ 12th', 0.0),\n",
       " ('education_ 1st-4th', 0.0),\n",
       " ('education_ 5th-6th', 0.0),\n",
       " ('education_ 7th-8th', 0.0),\n",
       " ('education_ 9th', 0.0),\n",
       " ('education_ Assoc-acdm', 0.0),\n",
       " ('education_ Assoc-voc', 0.0),\n",
       " ('education_ Bachelors', 0.0),\n",
       " ('education_ Doctorate', 0.0),\n",
       " ('education_ HS-grad', 0.0),\n",
       " ('education_ Masters', 0.0),\n",
       " ('education_ Preschool', 0.0),\n",
       " ('education_ Prof-school', 0.0),\n",
       " ('education_ Some-college', 0.0),\n",
       " ('marital-status_ Divorced', 0.0),\n",
       " ('marital-status_ Married-AF-spouse', 0.0),\n",
       " ('marital-status_ Married-civ-spouse', 0.46539981437763384),\n",
       " ('marital-status_ Married-spouse-absent', 0.0),\n",
       " ('marital-status_ Never-married', 0.0),\n",
       " ('marital-status_ Separated', 0.0),\n",
       " ('marital-status_ Widowed', 0.0),\n",
       " ('occupation_ ?', 0.0),\n",
       " ('occupation_ Adm-clerical', 0.0),\n",
       " ('occupation_ Armed-Forces', 0.0),\n",
       " ('occupation_ Craft-repair', 0.0),\n",
       " ('occupation_ Exec-managerial', 0.0),\n",
       " ('occupation_ Farming-fishing', 0.0002714914706749448),\n",
       " ('occupation_ Handlers-cleaners', 0.0),\n",
       " ('occupation_ Machine-op-inspct', 0.0),\n",
       " ('occupation_ Other-service', 0.0),\n",
       " ('occupation_ Priv-house-serv', 0.0),\n",
       " ('occupation_ Prof-specialty', 0.0),\n",
       " ('occupation_ Protective-serv', 0.0),\n",
       " ('occupation_ Sales', 0.0),\n",
       " ('occupation_ Tech-support', 0.0),\n",
       " ('occupation_ Transport-moving', 0.0),\n",
       " ('relationship_ Husband', 0.0),\n",
       " ('relationship_ Not-in-family', 0.0),\n",
       " ('relationship_ Other-relative', 0.0),\n",
       " ('relationship_ Own-child', 0.0),\n",
       " ('relationship_ Unmarried', 0.0),\n",
       " ('relationship_ Wife', 0.0),\n",
       " ('race_ Amer-Indian-Eskimo', 0.0),\n",
       " ('race_ Asian-Pac-Islander', 0.0),\n",
       " ('race_ Black', 0.0),\n",
       " ('race_ Other', 0.0),\n",
       " ('race_ White', 0.0),\n",
       " ('sex_ Female', 0.0),\n",
       " ('sex_ Male', 0.0),\n",
       " ('native-country_ ?', 0.0),\n",
       " ('native-country_ Cambodia', 0.0),\n",
       " ('native-country_ Canada', 0.0),\n",
       " ('native-country_ China', 0.0),\n",
       " ('native-country_ Columbia', 0.0),\n",
       " ('native-country_ Cuba', 0.0),\n",
       " ('native-country_ Dominican-Republic', 0.0),\n",
       " ('native-country_ Ecuador', 0.0),\n",
       " ('native-country_ El-Salvador', 0.0),\n",
       " ('native-country_ England', 0.0),\n",
       " ('native-country_ France', 0.0),\n",
       " ('native-country_ Germany', 0.0),\n",
       " ('native-country_ Greece', 0.0),\n",
       " ('native-country_ Guatemala', 0.0),\n",
       " ('native-country_ Haiti', 0.0),\n",
       " ('native-country_ Holand-Netherlands', 0.0),\n",
       " ('native-country_ Honduras', 0.0),\n",
       " ('native-country_ Hong', 0.0),\n",
       " ('native-country_ Hungary', 0.0),\n",
       " ('native-country_ India', 0.0),\n",
       " ('native-country_ Iran', 0.0),\n",
       " ('native-country_ Ireland', 0.0),\n",
       " ('native-country_ Italy', 0.0),\n",
       " ('native-country_ Jamaica', 0.0),\n",
       " ('native-country_ Japan', 0.0),\n",
       " ('native-country_ Laos', 0.0),\n",
       " ('native-country_ Mexico', 0.0),\n",
       " ('native-country_ Nicaragua', 0.0),\n",
       " ('native-country_ Outlying-US(Guam-USVI-etc)', 0.0),\n",
       " ('native-country_ Peru', 0.0),\n",
       " ('native-country_ Philippines', 0.0),\n",
       " ('native-country_ Poland', 0.0),\n",
       " ('native-country_ Portugal', 0.0),\n",
       " ('native-country_ Puerto-Rico', 0.0),\n",
       " ('native-country_ Scotland', 0.0),\n",
       " ('native-country_ South', 0.0),\n",
       " ('native-country_ Taiwan', 0.0),\n",
       " ('native-country_ Thailand', 0.0),\n",
       " ('native-country_ Trinadad&Tobago', 0.0),\n",
       " ('native-country_ United-States', 0.0),\n",
       " ('native-country_ Vietnam', 0.0),\n",
       " ('native-country_ Yugoslavia', 0.0),\n",
       " ('workclass', 0.0),\n",
       " ('education', 0.0),\n",
       " ('marital-status', 0.0),\n",
       " ('occupation', 0.0),\n",
       " ('relationship', 0.0),\n",
       " ('race', 0.0),\n",
       " ('sex', 0.0),\n",
       " ('native-country', 0.0)]"
      ]
     },
     "execution_count": 180,
     "metadata": {},
     "output_type": "execute_result"
    }
   ],
   "source": [
    "list(zip(x.drop(['fnlwgt','salary'], axis = 1).columns, dt_model.feature_importances_))"
   ]
  },
  {
   "cell_type": "code",
   "execution_count": 181,
   "metadata": {},
   "outputs": [],
   "source": [
    "dt_predictions = dt_model.predict(xt.drop(['fnlwgt','salary'], axis = 1))"
   ]
  },
  {
   "cell_type": "code",
   "execution_count": 182,
   "metadata": {},
   "outputs": [
    {
     "name": "stdout",
     "output_type": "stream",
     "text": [
      "Accuracy score\n",
      "0.846595620527625\n",
      "\n",
      "Confusion matrix\n",
      "[[23647  1073]\n",
      " [ 3922  3919]]\n",
      "\n",
      "Classification report\n",
      "              precision    recall  f1-score   support\n",
      "\n",
      "           0       0.86      0.96      0.90     24720\n",
      "           1       0.79      0.50      0.61      7841\n",
      "\n",
      "    accuracy                           0.85     32561\n",
      "   macro avg       0.82      0.73      0.76     32561\n",
      "weighted avg       0.84      0.85      0.83     32561\n",
      "\n"
     ]
    }
   ],
   "source": [
    "print('Accuracy score')\n",
    "print(accuracy_score(xt.salary, dt_predictions))\n",
    "print('')\n",
    "print('Confusion matrix')\n",
    "print(confusion_matrix(xt.salary, dt_predictions))\n",
    "print('')\n",
    "print('Classification report')\n",
    "print(classification_report(xt.salary, dt_predictions))"
   ]
  },
  {
   "cell_type": "markdown",
   "metadata": {},
   "source": [
    "# 3. Optional: Using gridSearch find the most optimal parameters for your model\n",
    "Warning: this can be computationally intensive and may take some time.\n",
    "- https://scikit-learn.org/stable/modules/generated/sklearn.model_selection.GridSearchCV.html\n",
    "- https://scikit-learn.org/stable/modules/grid_search.html"
   ]
  },
  {
   "cell_type": "code",
   "execution_count": null,
   "metadata": {},
   "outputs": [],
   "source": []
  }
 ],
 "metadata": {
  "kernelspec": {
   "display_name": "Python 3",
   "language": "python",
   "name": "python3"
  },
  "language_info": {
   "codemirror_mode": {
    "name": "ipython",
    "version": 3
   },
   "file_extension": ".py",
   "mimetype": "text/x-python",
   "name": "python",
   "nbconvert_exporter": "python",
   "pygments_lexer": "ipython3",
   "version": "3.8.5"
  }
 },
 "nbformat": 4,
 "nbformat_minor": 2
}
